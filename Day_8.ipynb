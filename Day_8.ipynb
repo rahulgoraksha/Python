{
  "nbformat": 4,
  "nbformat_minor": 0,
  "metadata": {
    "colab": {
      "provenance": []
    },
    "kernelspec": {
      "name": "python3",
      "display_name": "Python 3"
    },
    "language_info": {
      "name": "python"
    }
  },
  "cells": [
    {
      "cell_type": "code",
      "execution_count": null,
      "metadata": {
        "colab": {
          "base_uri": "https://localhost:8080/"
        },
        "id": "H5sKF1JywM5s",
        "outputId": "9c2db8c7-7133-4e34-bebd-6799cde209f2"
      },
      "outputs": [
        {
          "output_type": "stream",
          "name": "stdout",
          "text": [
            "hello\n",
            "What are you doing\n"
          ]
        }
      ],
      "source": [
        "def green():\n",
        "  print(\"hello\")\n",
        "  print(\"What are you doing\")\n",
        "\n",
        "green()"
      ]
    },
    {
      "cell_type": "code",
      "source": [
        "#function that allows the input\n",
        "\n",
        "\n",
        "def green(name):\n",
        "  print(f\"hello {name}\")\n",
        "green(\"rahul\")"
      ],
      "metadata": {
        "colab": {
          "base_uri": "https://localhost:8080/"
        },
        "id": "FQLgoRKwxQHi",
        "outputId": "1ecf7b84-4067-421b-c617-71341b0e4927"
      },
      "execution_count": null,
      "outputs": [
        {
          "output_type": "stream",
          "name": "stdout",
          "text": [
            "hello rahul\n"
          ]
        }
      ]
    },
    {
      "cell_type": "code",
      "source": [
        "#user input and call the function\n",
        "\n",
        "user = input(\"enter your name: \")\n",
        "\n",
        "def function(user):\n",
        "  print(f\"hello {user}\")\n",
        "\n",
        "function(user)"
      ],
      "metadata": {
        "colab": {
          "base_uri": "https://localhost:8080/"
        },
        "id": "NUWk6jMbZb1x",
        "outputId": "a7d86f64-e609-419e-dc7a-6c9418e34313"
      },
      "execution_count": null,
      "outputs": [
        {
          "output_type": "stream",
          "name": "stdout",
          "text": [
            "enter your name: rahul\n",
            "hello rahul\n"
          ]
        }
      ]
    },
    {
      "cell_type": "code",
      "source": [
        "#function with return output\n",
        "\n",
        "def function1():\n",
        "  result = 3 * 2\n",
        "  return(result)\n",
        "function1()"
      ],
      "metadata": {
        "colab": {
          "base_uri": "https://localhost:8080/"
        },
        "id": "Nj9ZQ5XZXT5R",
        "outputId": "6c5ef080-faa5-4cbc-d9f3-51d00c69bcfc"
      },
      "execution_count": null,
      "outputs": [
        {
          "output_type": "execute_result",
          "data": {
            "text/plain": [
              "6"
            ]
          },
          "metadata": {},
          "execution_count": 5
        }
      ]
    },
    {
      "cell_type": "code",
      "source": [
        "#task input parameter and print the names in title case\n",
        "\n",
        "def namefunction(f_name,l_name):\n",
        "  x = f_name.title()\n",
        "  y = l_name.title()\n",
        "  title = x +\" \"+ y\n",
        "  return(title)\n",
        "\n",
        "namefunction(f_name = \"rahul\",l_name =\"sharma\")"
      ],
      "metadata": {
        "colab": {
          "base_uri": "https://localhost:8080/",
          "height": 35
        },
        "id": "ePe78nAqXWM9",
        "outputId": "ee81ff29-1426-44f3-d239-6da3ae14c45e"
      },
      "execution_count": null,
      "outputs": [
        {
          "output_type": "execute_result",
          "data": {
            "text/plain": [
              "'Rahul Sharma'"
            ],
            "application/vnd.google.colaboratory.intrinsic+json": {
              "type": "string"
            }
          },
          "metadata": {},
          "execution_count": 10
        }
      ]
    }
  ]
}