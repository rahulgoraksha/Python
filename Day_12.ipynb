{
  "nbformat": 4,
  "nbformat_minor": 0,
  "metadata": {
    "colab": {
      "provenance": []
    },
    "kernelspec": {
      "name": "python3",
      "display_name": "Python 3"
    },
    "language_info": {
      "name": "python"
    }
  },
  "cells": [
    {
      "cell_type": "markdown",
      "source": [
        "Define function with / Without parameter"
      ],
      "metadata": {
        "id": "rv9GK0HdQaFS"
      }
    },
    {
      "cell_type": "code",
      "execution_count": 3,
      "metadata": {
        "colab": {
          "base_uri": "https://localhost:8080/"
        },
        "id": "zA8JevSFQEhv",
        "outputId": "92d1c0d5-83de-4b83-ad27-0c646bd19f16"
      },
      "outputs": [
        {
          "output_type": "stream",
          "name": "stdout",
          "text": [
            "enter the number : 3\n",
            "enter the number : 2\n",
            "3 + 2 = 5\n"
          ]
        }
      ],
      "source": [
        "#function without return and without parameter\n",
        "def sum():\n",
        "\n",
        "  a = int(input(\"enter the number : \"))\n",
        "  b = int(input(\"enter the number : \"))\n",
        "  c = a + b\n",
        "  print(a, \"+\", b, \"=\", c)\n",
        "\n",
        "sum()"
      ]
    },
    {
      "cell_type": "code",
      "source": [
        "#function without return type with parameter\n",
        "def div(num1,num2):\n",
        "  c = num1/num2\n",
        "\n",
        "  print(num1, \"/\", num2, \"=\", c)\n",
        "\n",
        "div(10,2)\n"
      ],
      "metadata": {
        "colab": {
          "base_uri": "https://localhost:8080/"
        },
        "id": "kRbMkGYfREe1",
        "outputId": "8c64c7fe-63c5-4bf4-c818-8665c7227005"
      },
      "execution_count": 4,
      "outputs": [
        {
          "output_type": "stream",
          "name": "stdout",
          "text": [
            "10 / 2 = 5.0\n"
          ]
        }
      ]
    },
    {
      "cell_type": "code",
      "source": [
        "#function with paramter and with return\n",
        "\n",
        "def sub(a,b):\n",
        "  c = a - b\n",
        "  print(a, \"-\", b, \"=\", c)\n",
        "  return c\n",
        "\n",
        "sub(10,5)"
      ],
      "metadata": {
        "id": "nqGdwcPcR_JU"
      },
      "execution_count": null,
      "outputs": []
    },
    {
      "cell_type": "code",
      "source": [
        "#Task:\n",
        "\n",
        "#Create a function average that will ask the user how many numbers they want to enter.\n",
        "\n",
        "from ast import Num\n",
        "def average():\n",
        "    n = int(input(\"How many numbers do you want to enter? \"))\n",
        "    total = 0\n",
        "\n",
        "\n",
        "    for  i in range(n):\n",
        "      num = float(input(\"Enter the number: \"))\n",
        "      total += num\n",
        "\n",
        "      avg = total / n\n",
        "    print(\"The average is:\", avg)\n",
        "\n",
        "average()"
      ],
      "metadata": {
        "colab": {
          "base_uri": "https://localhost:8080/"
        },
        "id": "TIHKVm7mR91t",
        "outputId": "e49a1731-c9e8-493a-8a9e-2eb5533cb476"
      },
      "execution_count": 18,
      "outputs": [
        {
          "output_type": "stream",
          "name": "stdout",
          "text": [
            "How many numbers do you want to enter? 4\n",
            "Enter the number: 5\n",
            "Enter the number: 2\n",
            "Enter the number: 3\n",
            "Enter the number: 5\n",
            "The average is: 3.75\n"
          ]
        }
      ]
    },
    {
      "cell_type": "code",
      "source": [
        "def power(a,b):\n",
        "  c = a**b\n",
        "  print(a,\"**\",b,\"=\",c)\n",
        "\n",
        "power(2,3)\n",
        ""
      ],
      "metadata": {
        "colab": {
          "base_uri": "https://localhost:8080/"
        },
        "id": "IdkiwiLmSv2v",
        "outputId": "09d85004-4ed0-40f2-8c43-10dfacd289e0"
      },
      "execution_count": 19,
      "outputs": [
        {
          "output_type": "stream",
          "name": "stdout",
          "text": [
            "2 ** 3 = 8\n"
          ]
        }
      ]
    },
    {
      "cell_type": "code",
      "source": [
        "ls = [\"DELHI\",\"LONDON\",\"PARIS\",\"NEW YORK\",\"DUBAI\"]\n",
        "\n",
        "result = [city for city in ls if len(city) > 5]\n",
        "print(result)\n"
      ],
      "metadata": {
        "colab": {
          "base_uri": "https://localhost:8080/"
        },
        "id": "JzWrlnh_Z5BH",
        "outputId": "59f61677-bab7-4e6c-b323-7cb6d92dd636"
      },
      "execution_count": 20,
      "outputs": [
        {
          "output_type": "stream",
          "name": "stdout",
          "text": [
            "['LONDON', 'NEW YORK']\n"
          ]
        }
      ]
    }
  ]
}