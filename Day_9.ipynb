{
  "nbformat": 4,
  "nbformat_minor": 0,
  "metadata": {
    "colab": {
      "provenance": []
    },
    "kernelspec": {
      "name": "python3",
      "display_name": "Python 3"
    },
    "language_info": {
      "name": "python"
    }
  },
  "cells": [
    {
      "cell_type": "code",
      "execution_count": null,
      "metadata": {
        "colab": {
          "base_uri": "https://localhost:8080/"
        },
        "id": "n3H23mqGkxkr",
        "outputId": "ee0cd4b5-c20c-4052-976e-b038adf93980"
      },
      "outputs": [
        {
          "output_type": "stream",
          "name": "stdout",
          "text": [
            "enter there age: 121\n",
            "iinvalid age and or out of range\n"
          ]
        }
      ],
      "source": [
        "#if_else exercise\n",
        "\n",
        "\n",
        "#Age criteria using set conditional format\n",
        "age = int(input(\"enter there age: \"))\n",
        "\n",
        "#program should use following age group:\n",
        "if 0 < age and age <= 12:\n",
        "    print(\"child\")\n",
        "elif 13 <= age and age <= 19:\n",
        "    print(\"teenage\")\n",
        "elif 20 <= age and age <= 59:\n",
        "  print(\"Adult\")\n",
        "elif 60 <= age and age <= 100:\n",
        "  print(\"Senior citizen\")\n",
        "\n",
        "else:\n",
        "  print(\"invalid age and or out of range\")"
      ]
    },
    {
      "cell_type": "code",
      "source": [
        "#take user input and get conditional output as set\n",
        "\n",
        "user = int(input(\"enter the number from 1 to 7: \\n\"))\n",
        "\n",
        "if user == 1:\n",
        "  print(\"Sunday\")\n",
        "elif user == 2:\n",
        "  print(\"Monday\")\n",
        "elif user == 3:\n",
        "  print(\"Tuesday\")\n",
        "elif user == 4:\n",
        "  print(\"Wednesday\")\n",
        "elif user == 5:\n",
        "  print(\"Thursday\")\n",
        "elif user == 6:\n",
        "  print(\"Friday\")\n",
        "elif user == 7:\n",
        "  print(\"Saturday\")\n",
        "\n",
        "else:\n",
        "  print(\"enter the valid input\")\n"
      ],
      "metadata": {
        "colab": {
          "base_uri": "https://localhost:8080/"
        },
        "id": "eABHeQTalaXq",
        "outputId": "a17a152b-d6c5-4505-e235-d7e1c22a7dca"
      },
      "execution_count": null,
      "outputs": [
        {
          "output_type": "stream",
          "name": "stdout",
          "text": [
            "enter the number from 1 to 7: \n",
            "1\n",
            "Sunday\n"
          ]
        }
      ]
    },
    {
      "cell_type": "code",
      "source": [
        "#calculate the body mass index using following condition\n",
        "\n",
        "weight = int(input(\"Enter the weight: \\n\"))\n",
        "\n",
        "height = int(input(\"Enter the height in cm: \\n\"))\n",
        "\n",
        "bmi = (weight)/(height/100)**2\n",
        "\n",
        "if bmi < 18.5:\n",
        "  print(\"Underweight\")\n",
        "elif 18.5 <= bmi <= 24.9:\n",
        "  print(\"Normal weight\")\n",
        "elif 25 <= bmi <= 29.9:\n",
        "  print(\"Overweight\")\n",
        "elif bmi >= 30:\n",
        "  print(\"obesity\")\n",
        "else:\n",
        "  print(\"calculation error due to wrong input\")\n",
        "\n",
        "print(f\"your bmi calculated value is {bmi}\")"
      ],
      "metadata": {
        "colab": {
          "base_uri": "https://localhost:8080/"
        },
        "id": "A5clVhMouCC3",
        "outputId": "e1ddf273-48d1-487f-d7a8-5e0edb58bf0b"
      },
      "execution_count": null,
      "outputs": [
        {
          "output_type": "stream",
          "name": "stdout",
          "text": [
            "Enter the weight: \n",
            "57\n",
            "Enter the height in cm: \n",
            "155\n",
            "Normal weight\n",
            "your bmi calculated value is 23.725286160249738\n"
          ]
        }
      ]
    },
    {
      "cell_type": "code",
      "source": [
        "#marks obtained by a student in 3 different subject are input in user,\n",
        "#program should calculate the average of subject and display the garde\n",
        "\n",
        "\n",
        "\n",
        "print(\"Welcome to the School Grade distribution day\")\n",
        "\n",
        "english = int(input(\"Enter the marks obtained in english: \\n\"))\n",
        "maths = int(input(\"Enter the marks obtained in maths: \\n\"))\n",
        "science = int(input(\"Enter the marks obtained in science: \\n\"))\n",
        "\n",
        "total  = english + maths + science\n",
        "\n",
        "average = total/3\n",
        "\n",
        "if 90 <= average <= 100:\n",
        "  print(\"A grade\")\n",
        "elif 80 <= average <= 89:\n",
        "  print(\"B grade\")\n",
        "elif 70 <= average <= 79:\n",
        "  print(\"C grade\")\n",
        "elif 60 <= average <= 69:\n",
        "  print(\"D grade\")\n",
        "elif 0 < average <= 59:\n",
        "  print(\"E grade\")\n",
        "else:\n",
        "  print(\"invalid input\")"
      ],
      "metadata": {
        "colab": {
          "base_uri": "https://localhost:8080/"
        },
        "id": "VkfAtmIXvDA2",
        "outputId": "51eec882-44fb-46cb-9885-2984058c3d8a"
      },
      "execution_count": null,
      "outputs": [
        {
          "output_type": "stream",
          "name": "stdout",
          "text": [
            "Welcome to the School Grade distribution day\n",
            "Enter the marks obtained in english: \n",
            "92\n",
            "Enter the marks obtained in maths: \n",
            "93\n",
            "Enter the marks obtained in science: \n",
            "80\n",
            "B grade\n"
          ]
        }
      ]
    },
    {
      "cell_type": "code",
      "source": [
        "#this code fails for number inputn hence to overcome we need to try something else\n",
        "char = input(\"enter the character: \\n\")\n",
        "\n",
        "if char in [\"A\",\"E\",\"I\",\"O\",\"U\",\"a\",\"e\",\"i\",\"o\",\"u\"]:\n",
        "  print(\"vowel\")\n",
        "else:\n",
        "  print(\"consonant\")"
      ],
      "metadata": {
        "colab": {
          "base_uri": "https://localhost:8080/"
        },
        "id": "ZCjoDVR9zk6s",
        "outputId": "54dcfb81-e79b-424f-ca7a-bea8e19b9922"
      },
      "execution_count": null,
      "outputs": [
        {
          "output_type": "stream",
          "name": "stdout",
          "text": [
            "enter the character: \n",
            "5\n",
            "consonant\n"
          ]
        }
      ]
    },
    {
      "cell_type": "code",
      "source": [
        "#user input and prompt vowel or consonent\n",
        "\n",
        "char = input(\"enter the character: \\n\")\n",
        "\n",
        "if char.isalpha() and len(char) == 1:\n",
        "  if char in \"AEIOUaeiou\":\n",
        "    print(\"vowel\")\n",
        "\n",
        "  else:\n",
        "    print(\"consonant\")\n",
        "\n",
        "else:\n",
        "  print(\"invalid input\")"
      ],
      "metadata": {
        "colab": {
          "base_uri": "https://localhost:8080/"
        },
        "id": "8S2crlav4akO",
        "outputId": "4692cee4-2fa0-41b3-fa0f-cb7d333ba13c"
      },
      "execution_count": null,
      "outputs": [
        {
          "output_type": "stream",
          "name": "stdout",
          "text": [
            "enter the character: \n",
            "i\n",
            "vower\n"
          ]
        }
      ]
    },
    {
      "cell_type": "code",
      "source": [
        "#user input to find the year is leap or not\n",
        "\n",
        "year = int(input(\"Enter the year: \\n\"))\n",
        "\n",
        "if (year % 4 == 0 and year % 100 != 0) or (year % 400 == 0):\n",
        "      print(f\"leap year {year}\")\n",
        "\n",
        "else:\n",
        "    print(\"not a leap year\")\n"
      ],
      "metadata": {
        "colab": {
          "base_uri": "https://localhost:8080/"
        },
        "id": "JD73eP6V5-HJ",
        "outputId": "7f3ff0b2-5133-488d-9153-81d850bad14a"
      },
      "execution_count": null,
      "outputs": [
        {
          "output_type": "stream",
          "name": "stdout",
          "text": [
            "Enter the year: \n",
            "2004\n",
            "leap year 2004\n"
          ]
        }
      ]
    },
    {
      "cell_type": "code",
      "source": [
        "#input the number of call done by user to calculate the telephone bill\n",
        "\n",
        "calls = int(input(\"Enter the number of calls: \\n\"))\n",
        "bill  = 200\n",
        "#bill calculation\n",
        "#as the following rule:\n",
        "if calls <= 100:\n",
        "  bill = 200\n",
        "elif  100 <= calls <= 150:\n",
        "    bill = (200)+0.60\n",
        "elif 150 <= calls <= 200:\n",
        "    bill = (200)+0.50\n",
        "elif calls >= 200:\n",
        "    bill = (200)+0.60+0.50+0.40\n",
        "\n",
        "else:\n",
        "  bill = 200+.60+0.50+0.40+0.10\n",
        "\n",
        "print(f\"total bill is {bill}\")\n",
        "\n"
      ],
      "metadata": {
        "colab": {
          "base_uri": "https://localhost:8080/"
        },
        "id": "FVtVYzLC6Suo",
        "outputId": "4c6eaa89-fb88-41a6-8f99-d2cdcb26e8df"
      },
      "execution_count": 24,
      "outputs": [
        {
          "output_type": "stream",
          "name": "stdout",
          "text": [
            "Enter the number of calls: \n",
            "120\n",
            "total bill is 200.6\n"
          ]
        }
      ]
    },
    {
      "cell_type": "code",
      "source": [
        "#isdigit , isalnum, isalpha for extra restriction\n",
        "\n",
        "char = input(\"Enter a character: \\n\")\n",
        "\n",
        "if char.isalpha():\n",
        "    print(\"It's an alphabetic character.\")\n",
        "elif char.isdigit():\n",
        "    print(\"It's a digit.\")\n",
        "elif not char.isalnum():\n",
        "    print(\"It's a symbol or special character.\")\n",
        "else:\n",
        "    print(\"Invalid input.\")"
      ],
      "metadata": {
        "id": "6_SNKVufB3n-"
      },
      "execution_count": null,
      "outputs": []
    },
    {
      "cell_type": "code",
      "source": [
        "#prompt user to add 3 input number n get output sort them in ascending order\n",
        "\n",
        "\n",
        "num01 = input(\"enter the number: \\n\")\n",
        "num02 = input(\"enter the number: \\n\")\n",
        "num03 = input(\"enter the number: \\n\")\n",
        "\n",
        "if num01 > num02 and num01 > num03:\n",
        "  print(f\"{num01},{num02},{num03}\")\n",
        "elif num02> num01 and num02 > num03:\n",
        "  print(f\"{num02},{num01},{num03}\")\n",
        "elif num03 > num01 and num03 > num02:\n",
        "  print(f\"{num03},{num02},{num01}\")\n",
        "\n",
        "\n",
        "else:\n",
        "  print(\"invalid input\")\n"
      ],
      "metadata": {
        "colab": {
          "base_uri": "https://localhost:8080/"
        },
        "id": "_JO6nRNXJm6R",
        "outputId": "21d6382e-54f7-4b94-df3c-2036805fdf7f"
      },
      "execution_count": 7,
      "outputs": [
        {
          "output_type": "stream",
          "name": "stdout",
          "text": [
            "enter the number: \n",
            "3\n",
            "enter the number: \n",
            "5\n",
            "enter the number: \n",
            "0\n",
            "5,3,0\n"
          ]
        }
      ]
    },
    {
      "cell_type": "code",
      "source": [
        "num01 = input(\"enter the number\")\n",
        "num02 = input(\"enter the number\")\n",
        "num03 = input(\"enter the number\")\n",
        "\n",
        "largest = max(num01,num02,num03)\n",
        "print(largest)"
      ],
      "metadata": {
        "colab": {
          "base_uri": "https://localhost:8080/"
        },
        "id": "_hDsPcmhYl_5",
        "outputId": "cac20b60-b0d0-4b3f-dbfb-e528997ade4b"
      },
      "execution_count": 3,
      "outputs": [
        {
          "output_type": "stream",
          "name": "stdout",
          "text": [
            "enter the number3\n",
            "enter the number5\n",
            "enter the number6\n",
            "6\n"
          ]
        }
      ]
    },
    {
      "cell_type": "code",
      "source": [
        "#same above example using if_else condition:\n",
        "\n",
        "num01 = input(\"enter the number\")\n",
        "num02 = input(\"enter the number\")\n",
        "num03 = input(\"enter the number\")\n",
        "\n",
        "\n",
        "if num01 > num02 and num01 > num03:\n",
        "  print(num01)\n",
        "elif num02> num01 and num02 > num03:\n",
        "  print(num02)\n",
        "elif num03 > num01 and num03 > num02:\n",
        "  print(num03)\n",
        "\n",
        "else:\n",
        "  print(\"invalid input\")"
      ],
      "metadata": {
        "colab": {
          "base_uri": "https://localhost:8080/"
        },
        "id": "GZ4SPl2JZZx7",
        "outputId": "3447c90e-abbc-42d2-921b-f91e8cb9bc67"
      },
      "execution_count": 4,
      "outputs": [
        {
          "output_type": "stream",
          "name": "stdout",
          "text": [
            "enter the number3\n",
            "enter the number5\n",
            "enter the number8\n",
            "8\n"
          ]
        }
      ]
    },
    {
      "cell_type": "code",
      "source": [
        "#user input three number and list out in ascending order : split, sorting function\n",
        "number = list(map(int,input(\"Enter the three input number seperated by spaces: \\n\").split()))\n",
        "\n",
        "sorting_number = sorted(number)\n",
        "\n",
        "print(f\"number displayed in ascending order {sorting_number}\")"
      ],
      "metadata": {
        "colab": {
          "base_uri": "https://localhost:8080/"
        },
        "id": "fAdld7Dlikcx",
        "outputId": "d1185117-7863-419f-cb4c-84e6c4b21c09"
      },
      "execution_count": 17,
      "outputs": [
        {
          "output_type": "stream",
          "name": "stdout",
          "text": [
            "Enter the three input number seperated by spaces: \n",
            "25 10 0\n",
            "number displayed in ascending order [0, 10, 25]\n"
          ]
        }
      ]
    }
  ]
}