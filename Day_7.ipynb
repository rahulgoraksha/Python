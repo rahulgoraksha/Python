{
  "nbformat": 4,
  "nbformat_minor": 0,
  "metadata": {
    "colab": {
      "provenance": []
    },
    "kernelspec": {
      "name": "python3",
      "display_name": "Python 3"
    },
    "language_info": {
      "name": "python"
    }
  },
  "cells": [
    {
      "cell_type": "code",
      "execution_count": null,
      "metadata": {
        "colab": {
          "base_uri": "https://localhost:8080/"
        },
        "id": "oy71OWmg5LGO",
        "outputId": "364dc0d3-7a14-4775-e0ea-e81b27fa76e5"
      },
      "outputs": [
        {
          "output_type": "stream",
          "name": "stdout",
          "text": [
            "({'name': 'Aditya', 'coursr': 'Python Web Developement', 'timing': '4pm:6pm', 'age': 20}, {'name': 'savita'}, {'name': 'vidya', 'course': 'java', 'age': '30'})\n"
          ]
        }
      ],
      "source": [
        "#Dictionary\n",
        "\n",
        "Students ={\"name\":\"Aditya\",\"coursr\":\"Python Web Developement\",\"timing\": \"4pm:6pm\",\"age\":20},{\"name\":\"savita\"},{\"name\":\"vidya\",\"course\":\"java\",\"age\":\"30\"}\n",
        "print(Students)"
      ]
    },
    {
      "cell_type": "code",
      "source": [
        "thisdict = {\"brand\": \"Ford\",\"model\": \"Mustang\",\"year\": 1964}\n",
        "print(thisdict) #call the created dictionary\n",
        "\n",
        "print(thisdict[\"brand\"]) #print the value from dictionary\n",
        "print(type(thisdict)) #type of datatype\n",
        "\n",
        "print(len(thisdict))  #find the len of dictionary in which only value is calculated in terms of words count\n",
        "\n",
        "\n"
      ],
      "metadata": {
        "colab": {
          "base_uri": "https://localhost:8080/"
        },
        "id": "oNdGUcOm5OMG",
        "outputId": "a36b9895-d506-4a4b-c4e1-b5b8f704c7be"
      },
      "execution_count": null,
      "outputs": [
        {
          "output_type": "stream",
          "name": "stdout",
          "text": [
            "{'brand': 'Ford', 'model': 'Mustang', 'year': 1964}\n",
            "Ford\n",
            "<class 'dict'>\n",
            "3\n"
          ]
        }
      ]
    },
    {
      "cell_type": "code",
      "source": [
        "#value of the dicttionary can be anything that is string, int, float, bool, list\n",
        "thisdict = {\n",
        "  \"brand\": \"Ford\",\n",
        "  \"electric\": False,\n",
        "  \"year\": 1964,\n",
        "  \"colors\": [\"red\", \"white\", \"blue\"]\n",
        "}\n",
        "\n",
        "print(thisdict)"
      ],
      "metadata": {
        "colab": {
          "base_uri": "https://localhost:8080/"
        },
        "id": "ovBrVfWxCLeo",
        "outputId": "d8502ffa-9de1-440b-eae4-329883e026f1"
      },
      "execution_count": null,
      "outputs": [
        {
          "output_type": "stream",
          "name": "stdout",
          "text": [
            "{'brand': 'Ford', 'electric': False, 'year': 1964, 'colors': ['red', 'white', 'blue']}\n"
          ]
        }
      ]
    },
    {
      "cell_type": "code",
      "source": [
        "#dictionary making format using dict\n",
        "\n",
        "thisdict = dict(name = \"John\", age = 36, country = \"Norway\")\n",
        "print(thisdict)"
      ],
      "metadata": {
        "colab": {
          "base_uri": "https://localhost:8080/"
        },
        "id": "93rLMH4RElgn",
        "outputId": "1d605993-533b-45ab-b09e-390183d678f9"
      },
      "execution_count": null,
      "outputs": [
        {
          "output_type": "stream",
          "name": "stdout",
          "text": [
            "{'name': 'John', 'age': 36, 'country': 'Norway'}\n"
          ]
        }
      ]
    },
    {
      "cell_type": "code",
      "source": [
        "#Access Item from the the dictionary\n",
        "\n",
        "thisdict = {\n",
        "  \"brand\": \"Ford\",\n",
        "  \"model\": \"Mustang\",\n",
        "  \"year\": 1964\n",
        "}\n",
        "x = thisdict[\"model\"]\n",
        "print(x)\n"
      ],
      "metadata": {
        "colab": {
          "base_uri": "https://localhost:8080/"
        },
        "id": "1ScaqvrGFTm8",
        "outputId": "0d2a50c9-a500-4bed-a714-97ac6d2546da"
      },
      "execution_count": null,
      "outputs": [
        {
          "output_type": "stream",
          "name": "stdout",
          "text": [
            "Mustang\n"
          ]
        }
      ]
    },
    {
      "cell_type": "code",
      "source": [
        "#retrive the keys from the dictionary\n",
        "thisdict.keys()"
      ],
      "metadata": {
        "colab": {
          "base_uri": "https://localhost:8080/"
        },
        "id": "q11zr-HXFthv",
        "outputId": "810aa788-a5ca-468b-bee5-686ed01c92c9"
      },
      "execution_count": null,
      "outputs": [
        {
          "output_type": "execute_result",
          "data": {
            "text/plain": [
              "dict_keys(['brand', 'model', 'year'])"
            ]
          },
          "metadata": {},
          "execution_count": 32
        }
      ]
    },
    {
      "cell_type": "code",
      "source": [
        "#retrive the values from the dictionary\n",
        "thisdict.values()"
      ],
      "metadata": {
        "colab": {
          "base_uri": "https://localhost:8080/"
        },
        "id": "gu7F3VXdGFW0",
        "outputId": "ef3ab7ec-526e-46c2-8465-6cad06f9c924"
      },
      "execution_count": null,
      "outputs": [
        {
          "output_type": "execute_result",
          "data": {
            "text/plain": [
              "dict_values(['Ford', 'Mustang', 1964])"
            ]
          },
          "metadata": {},
          "execution_count": 34
        }
      ]
    },
    {
      "cell_type": "code",
      "source": [
        "#altert the values in dictionary as mutuable\n",
        "\n",
        "thisdict[\"year\"] = 2004\n",
        "print(thisdict)"
      ],
      "metadata": {
        "colab": {
          "base_uri": "https://localhost:8080/"
        },
        "id": "GjUDOyOfGqa3",
        "outputId": "f9432967-3b77-4752-9831-d3199240da98"
      },
      "execution_count": null,
      "outputs": [
        {
          "output_type": "stream",
          "name": "stdout",
          "text": [
            "{'brand': 'Ford', 'model': 'Mustang', 'year': 2004}\n"
          ]
        }
      ]
    },
    {
      "cell_type": "code",
      "source": [
        "#add new key and value in dictionary\n",
        "\n",
        "thisdict[\"colour\"] = \"red\"\n",
        "del thisdict[\"colour0\"] #oftenly used to delete the key and value\n",
        "print(thisdict)"
      ],
      "metadata": {
        "colab": {
          "base_uri": "https://localhost:8080/"
        },
        "id": "E6o4KY52G_3C",
        "outputId": "c3f799e1-ced7-40ec-aa6b-b3beb1fffd4b"
      },
      "execution_count": null,
      "outputs": [
        {
          "output_type": "stream",
          "name": "stdout",
          "text": [
            "{'brand': 'Ford', 'model': 'Mustang', 'year': 2004, 'colour': 'red'}\n"
          ]
        }
      ]
    },
    {
      "cell_type": "code",
      "source": [
        "#get the list of key and value\n",
        "\n",
        "x = thisdict.items()\n",
        "print(x)"
      ],
      "metadata": {
        "colab": {
          "base_uri": "https://localhost:8080/"
        },
        "id": "jVial-5-HyAb",
        "outputId": "05b0bb20-d07e-4cf3-f8e7-79d20d18a95d"
      },
      "execution_count": null,
      "outputs": [
        {
          "output_type": "stream",
          "name": "stdout",
          "text": [
            "dict_items([('brand', 'Ford'), ('model', 'Mustang'), ('year', 2004), ('colour', 'red')])\n"
          ]
        }
      ]
    },
    {
      "cell_type": "code",
      "source": [
        "#Assignment: Dictionary\n",
        "\n",
        "\n",
        "\n",
        "students = {\n",
        "    1: {\"name\": \"Aditya\", \"course\": \"Python web development\", \"timing\": \"4pm-6pm\", \"age\": 20},\n",
        "    2: {\"name\": \"Savita\"},\n",
        "    3: {\"name\": \"Vidya\", \"course\": \"Java\", \"age\": 30}\n",
        "}\n",
        "\n",
        "#Question\n",
        "# 1.find out the roll no 1 is present in the dictionary or not\n",
        "# 2.append a new record for roll no 6 in dictionary\n",
        "# 3.display the name and course of roll no 1\n",
        "# 4.change the course and roll no3 to AIML\n",
        "# 5.display length of roll no1\n",
        "\n",
        "\n",
        "\n",
        "1.\n",
        "if 2 in students:\n",
        "    print(\"yes\")\n",
        "else:\n",
        "  print(\"no\")\n",
        "\n",
        "2.\n",
        "students[6] = {\"name\": \"Rahul\", \"course\": \"ML\", \"timing\": \"4pm-6pm\", \"age\": 20}\n",
        "print(students)\n",
        "\n",
        "3.\n",
        "print(students[1][\"name\"],students[1][\"course\"])\n",
        "\n",
        "4.\n",
        "students[3][\"course\"] =\"AIML\"\n",
        "print(students)\n",
        "\n",
        "5.\n",
        "print(len(students[1]))\n"
      ],
      "metadata": {
        "colab": {
          "base_uri": "https://localhost:8080/"
        },
        "id": "7dJN7Qux3PZV",
        "outputId": "663e00b1-e8e0-455c-ed86-736b48ad9f2a"
      },
      "execution_count": 17,
      "outputs": [
        {
          "output_type": "stream",
          "name": "stdout",
          "text": [
            "yes\n",
            "{1: {'name': 'Aditya', 'course': 'Python web development', 'timing': '4pm-6pm', 'age': 20}, 2: {'name': 'Savita'}, 3: {'name': 'Vidya', 'course': 'Java', 'age': 30}, 6: {'name': 'Rahul', 'course': 'ML', 'timing': '4pm-6pm', 'age': 20}}\n",
            "4\n",
            "{1: {'name': 'Aditya', 'course': 'Python web development', 'timing': '4pm-6pm', 'age': 20}, 2: {'name': 'Savita'}, 3: {'name': 'Vidya', 'course': 'AIML', 'age': 30}, 6: {'name': 'Rahul', 'course': 'ML', 'timing': '4pm-6pm', 'age': 20}}\n",
            "Aditya Python web development\n"
          ]
        }
      ]
    },
    {
      "cell_type": "code",
      "source": [],
      "metadata": {
        "id": "q9t9BX7gAkdG"
      },
      "execution_count": null,
      "outputs": []
    }
  ]
}