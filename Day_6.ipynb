{
  "nbformat": 4,
  "nbformat_minor": 0,
  "metadata": {
    "colab": {
      "provenance": []
    },
    "kernelspec": {
      "name": "python3",
      "display_name": "Python 3"
    },
    "language_info": {
      "name": "python"
    }
  },
  "cells": [
    {
      "cell_type": "markdown",
      "source": [
        "Day  6: function, Code Block and While Loop"
      ],
      "metadata": {
        "id": "EL4fUOXKq9ZP"
      }
    },
    {
      "cell_type": "code",
      "execution_count": null,
      "metadata": {
        "colab": {
          "base_uri": "https://localhost:8080/"
        },
        "id": "TtRYnTL8q6er",
        "outputId": "30ea3291-1105-4562-e872-573e79be82c9"
      },
      "outputs": [
        {
          "output_type": "stream",
          "name": "stdout",
          "text": [
            "Hello\n",
            "5\n"
          ]
        }
      ],
      "source": [
        "print(\"Hello\")\n",
        "\n",
        "name = len(\"Hello\")\n",
        "print(name)"
      ]
    },
    {
      "cell_type": "code",
      "source": [
        "#Define and calling python function\n",
        "\n",
        "\n",
        "def my_function():\n",
        "  print(\"Hello\")\n",
        "  print(\"Bye\")\n",
        "\n",
        "my_function()\n"
      ],
      "metadata": {
        "colab": {
          "base_uri": "https://localhost:8080/"
        },
        "id": "5c0mr8jfrM-j",
        "outputId": "a1e965c9-409c-433c-d65f-62784aa0a537"
      },
      "execution_count": null,
      "outputs": [
        {
          "output_type": "stream",
          "name": "stdout",
          "text": [
            "Hello\n",
            "Bye\n"
          ]
        }
      ]
    },
    {
      "cell_type": "markdown",
      "source": [
        "function without return type without parameter"
      ],
      "metadata": {
        "id": "NPh51Jnx32hF"
      }
    },
    {
      "cell_type": "code",
      "source": [
        "def sum():\n",
        "  a = int(input(\"Enter the first number: \"))\n",
        "  b = int(input(\"Enter the second number\"))\n",
        "  c = a + b\n",
        "  print( a, \"+\", b,\"=\",c)\n",
        "\n",
        "sum()"
      ],
      "metadata": {
        "colab": {
          "base_uri": "https://localhost:8080/"
        },
        "id": "HXEzBFoL3bTS",
        "outputId": "a4d9bf33-729c-4b74-cd41-00891495c335"
      },
      "execution_count": null,
      "outputs": [
        {
          "output_type": "stream",
          "name": "stdout",
          "text": [
            "Enter the first number: 3\n",
            "Enter the second number2\n",
            "3 + 2 = 5\n"
          ]
        }
      ]
    },
    {
      "cell_type": "markdown",
      "source": [
        "function without return type with parameter"
      ],
      "metadata": {
        "id": "vQ3OXmOr36jJ"
      }
    },
    {
      "cell_type": "code",
      "source": [
        "def div(no1,no2):\n",
        "  c = no1/no2\n",
        "  print(no1,\"/\",no2,\"=\",c)\n",
        "\n",
        "div(5,2)"
      ],
      "metadata": {
        "colab": {
          "base_uri": "https://localhost:8080/"
        },
        "id": "4R0i7dij3831",
        "outputId": "a0e0424d-9e53-4697-d2cf-426ffd673679"
      },
      "execution_count": null,
      "outputs": [
        {
          "output_type": "stream",
          "name": "stdout",
          "text": [
            "5 / 2 = 2.5\n"
          ]
        }
      ]
    },
    {
      "cell_type": "markdown",
      "source": [
        "function with return type with parameter"
      ],
      "metadata": {
        "id": "EanHQnJD4NjT"
      }
    },
    {
      "cell_type": "code",
      "source": [
        "def sub(a,b):\n",
        "  c = a-b\n",
        "  return c\n",
        "\n",
        "sub(5,2)\n"
      ],
      "metadata": {
        "colab": {
          "base_uri": "https://localhost:8080/"
        },
        "id": "SM37kLDn4EMS",
        "outputId": "0f86b53a-fc8c-40be-b385-00b8172adf2c"
      },
      "execution_count": null,
      "outputs": [
        {
          "output_type": "execute_result",
          "data": {
            "text/plain": [
              "3"
            ]
          },
          "metadata": {},
          "execution_count": 11
        }
      ]
    },
    {
      "cell_type": "code",
      "source": [
        "#Reeborgs world challenge : create a path for robot to run the robot\n",
        "\n",
        "\n",
        "def move_function():\n",
        "    move()\n",
        "    move()\n",
        "\n",
        "\n",
        "move_function()\n",
        "turn_left()\n",
        "move_function()\n",
        "turn_left()\n",
        "move_function()\n",
        "turn_left()\n",
        "move_function()"
      ],
      "metadata": {
        "id": "hm7gJ_rOjAFG"
      },
      "execution_count": null,
      "outputs": []
    },
    {
      "cell_type": "code",
      "source": [
        "#Hurdles loop challenge\n",
        "\n",
        "\n",
        "def turn_right():\n",
        "    turn_left()\n",
        "    turn_left()\n",
        "    turn_left()\n",
        "\n",
        "def movement():\n",
        "    move()\n",
        "    turn_left()\n",
        "    move()\n",
        "    turn_right()\n",
        "    move()\n",
        "    turn_right()\n",
        "    move()\n",
        "    turn_left()\n",
        "\n",
        "\n",
        "def move_step():\n",
        "   movement()\n",
        "   movement()\n",
        "   movement()\n",
        "   movement()\n",
        "   movement()\n",
        "   movement()\n",
        "\n",
        "\n",
        "move_step()\n"
      ],
      "metadata": {
        "id": "cynhuRzHjin-"
      },
      "execution_count": null,
      "outputs": []
    },
    {
      "cell_type": "code",
      "source": [
        "# same above game using for loop\n",
        "\n",
        "\n",
        "def turn_right():\n",
        "    turn_left()\n",
        "    turn_left()\n",
        "    turn_left()\n",
        "\n",
        "def movement():\n",
        "    move()\n",
        "    turn_left()\n",
        "    move()\n",
        "    turn_right()\n",
        "    move()\n",
        "    turn_right()\n",
        "    move()\n",
        "    turn_left()\n",
        "\n",
        "\n",
        "for step in range(6):\n",
        "  movement()\n",
        "\n"
      ],
      "metadata": {
        "id": "sJDOLz9DifOO"
      },
      "execution_count": null,
      "outputs": []
    },
    {
      "cell_type": "code",
      "source": [
        "# same above game using for loop\n",
        "\n",
        "def turn_right():\n",
        "    turn_left()\n",
        "    turn_left()\n",
        "    turn_left()\n",
        "\n",
        "def movement():\n",
        "    move()\n",
        "    turn_left()\n",
        "    move()\n",
        "    turn_right()\n",
        "    move()\n",
        "    turn_right()\n",
        "    move()\n",
        "    turn_left()\n",
        "\n",
        "\n"
      ],
      "metadata": {
        "id": "Z8WBgWwij_Ly"
      },
      "execution_count": null,
      "outputs": []
    },
    {
      "cell_type": "code",
      "source": [
        "# same above game using while loop\n",
        "\n",
        "def turn_right():\n",
        "    turn_left()\n",
        "    turn_left()\n",
        "    turn_left()\n",
        "\n",
        "def movement():\n",
        "    move()\n",
        "    turn_left()\n",
        "    move()\n",
        "    turn_right()\n",
        "    move()\n",
        "    turn_right()\n",
        "    move()\n",
        "    turn_left()\n",
        "\n",
        "\n",
        "\n",
        "while at_goal() != True:\n",
        "    movement()\n",
        "\n",
        "\n",
        "\n",
        "\n"
      ],
      "metadata": {
        "id": "31lFlqGInNfR"
      },
      "execution_count": null,
      "outputs": []
    }
  ]
}