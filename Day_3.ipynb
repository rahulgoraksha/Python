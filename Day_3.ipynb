{
  "nbformat": 4,
  "nbformat_minor": 0,
  "metadata": {
    "colab": {
      "provenance": []
    },
    "kernelspec": {
      "name": "python3",
      "display_name": "Python 3"
    },
    "language_info": {
      "name": "python"
    }
  },
  "cells": [
    {
      "cell_type": "markdown",
      "source": [
        "Conditional Statement, Logical Opertors, Code Block & Scope"
      ],
      "metadata": {
        "id": "GsjouORKiHLl"
      }
    },
    {
      "cell_type": "code",
      "execution_count": 3,
      "metadata": {
        "colab": {
          "base_uri": "https://localhost:8080/"
        },
        "id": "MDuCSFptdUiz",
        "outputId": "1ef0dee9-7e3f-4387-960b-f7f0f905e9c4"
      },
      "outputs": [
        {
          "output_type": "stream",
          "name": "stdout",
          "text": [
            "Stop the Flow\n"
          ]
        }
      ],
      "source": [
        "#IF / Else Condition\n",
        "\n",
        "water_level = 90\n",
        "\n",
        "if water_level > 80:\n",
        "  print(\"Stop the Flow\")\n",
        "else:\n",
        "  print(\"Continue the Flow\")"
      ]
    },
    {
      "cell_type": "code",
      "source": [
        "print(\"Welcome to the Rollercoater Ride\")\n",
        "\n",
        "height = int(input(\"Enter the Height in cm: ?\"))\n",
        "\n",
        "if height >= 120:\n",
        "  print(\"Can ride\")\n",
        "else:\n",
        "  print(\"can't ride\")"
      ],
      "metadata": {
        "colab": {
          "base_uri": "https://localhost:8080/"
        },
        "id": "Guak0DovjLl4",
        "outputId": "8ca3702d-18f9-471b-9b9e-b459edbc1586"
      },
      "execution_count": 5,
      "outputs": [
        {
          "output_type": "stream",
          "name": "stdout",
          "text": [
            "Welcome to the Rollercoater Ride\n",
            "Enter the Height in cm: ?119\n",
            "can't ride\n"
          ]
        }
      ]
    },
    {
      "cell_type": "code",
      "source": [
        "num = 2%2  #remainder\n",
        "print(num)\n",
        "\n",
        "num1 = 2/2  #quotient\n",
        "print(num1)"
      ],
      "metadata": {
        "colab": {
          "base_uri": "https://localhost:8080/"
        },
        "id": "TkXZYM9cmGTS",
        "outputId": "1eea4c35-a6aa-4a79-a21a-ab7e23af0417"
      },
      "execution_count": 8,
      "outputs": [
        {
          "output_type": "stream",
          "name": "stdout",
          "text": [
            "0\n",
            "1.0\n"
          ]
        }
      ]
    },
    {
      "cell_type": "code",
      "source": [
        "#Modulo Operator : %\n",
        "\n",
        "#Check number is odd or even\n",
        "\n",
        "number = int(input(\"Enter the Number: \" ))\n",
        "\n",
        "if number%2 ==0:\n",
        "  print(\"even\")\n",
        "else:\n",
        "  print(\"odd\")"
      ],
      "metadata": {
        "colab": {
          "base_uri": "https://localhost:8080/"
        },
        "id": "RxFw7_Rcmgef",
        "outputId": "1a4eccac-d308-4503-cb75-dc74a2d90da5"
      },
      "execution_count": 9,
      "outputs": [
        {
          "output_type": "stream",
          "name": "stdout",
          "text": [
            "Enter the Number: 2\n",
            "even\n"
          ]
        }
      ]
    },
    {
      "cell_type": "code",
      "source": [
        "height = int(input(\"Enter the height in cm: ?\"))\n",
        "\n",
        "\n",
        "if height >= 120:\n",
        "  age = int(input(\"Enter the age: ?\"))\n",
        "  if age <= 18:\n",
        "    print(\"Please pay $7 for ticket and Start your ride\")\n",
        "  else:\n",
        "    print(\"Please pay $12 for ticket and Start your ride\")\n",
        "else:\n",
        "  print(\"can't ride\")\n"
      ],
      "metadata": {
        "colab": {
          "base_uri": "https://localhost:8080/"
        },
        "id": "GcyPy8einYpb",
        "outputId": "b824bb13-97ce-4e80-c6c3-13ded5533f4e"
      },
      "execution_count": 15,
      "outputs": [
        {
          "output_type": "stream",
          "name": "stdout",
          "text": [
            "Enter the height in cm: ?121\n",
            "Enter the age: ?19\n",
            "Please pay $12 for ticket and Start your ride\n"
          ]
        }
      ]
    },
    {
      "cell_type": "code",
      "source": [
        "#if/elif/else\n",
        "\n",
        "height = int(input(\"Enter the height in cm: ?\"))\n",
        "\n",
        "if height >= 120:\n",
        "  age = int(input(\"Enter the age: ?\"))\n",
        "  if age <= 12:\n",
        "    print(\"Please pay $5 for ticket and Start your ride\")\n",
        "  elif age <= 18:\n",
        "    print(\"Please pay $7 for ticket and Start your ride\")\n",
        "  else:\n",
        "    print(\"Please pay $30 for ticket and Start your ride\")\n",
        "else:\n",
        "  print(\"can't ride\")\n"
      ],
      "metadata": {
        "colab": {
          "base_uri": "https://localhost:8080/"
        },
        "id": "Z-DnSPKevDWs",
        "outputId": "0ac0be00-13f9-4927-c601-f058b83a8a0a"
      },
      "execution_count": 20,
      "outputs": [
        {
          "output_type": "stream",
          "name": "stdout",
          "text": [
            "Enter the height in cm: ?120\n",
            "Enter the age: ?20\n",
            "Please pay $30 for ticket and Start your ride\n"
          ]
        }
      ]
    },
    {
      "cell_type": "code",
      "source": [
        "#BMI Calculator\n",
        "\n",
        "\n",
        "weight = 85\n",
        "height = 1.85\n",
        "\n",
        "bmi = weight / (height ** 2)\n",
        "\n",
        "if bmi < 18.5:\n",
        "    print(\"Underweight\")\n",
        "elif 18.5 < bmi < 24.9:\n",
        "    print(\"normal weight\")\n",
        "elif 25 <= bmi <= 29.9:\n",
        "    print(\"overweight\")\n",
        "else:\n",
        "     print(\"need to seek medical help\")"
      ],
      "metadata": {
        "colab": {
          "base_uri": "https://localhost:8080/"
        },
        "id": "CCg9WNs_HhUb",
        "outputId": "14b2764b-cecd-48c6-b0ab-5192415bfc70"
      },
      "execution_count": 21,
      "outputs": [
        {
          "output_type": "stream",
          "name": "stdout",
          "text": [
            "normal weight\n"
          ]
        }
      ]
    },
    {
      "cell_type": "code",
      "source": [
        "height = int(input(\"Enter the height in cm: ?\"))\n",
        "bill = 0\n",
        "if height >= 120:\n",
        "  age = int(input(\"Enter the age: ?\"))\n",
        "  if age <= 12:\n",
        "    bill = 5\n",
        "\n",
        "  elif age <= 18:\n",
        "    bill = 7\n",
        "\n",
        "  else:\n",
        "    bill = 30\n",
        "\n",
        "  image = input(\"want photo graph yes or no: \")\n",
        "  if image == \"yes\":\n",
        "    bill += 3\n",
        "\n",
        "    print(f\"total fare is {bill}\")\n",
        "else:\n",
        "  print(\"can't ride\")\n"
      ],
      "metadata": {
        "colab": {
          "base_uri": "https://localhost:8080/"
        },
        "id": "MVqagdw2JGcf",
        "outputId": "8360e6c8-bfd0-4043-8fae-c6ce0b948cd5"
      },
      "execution_count": 26,
      "outputs": [
        {
          "output_type": "stream",
          "name": "stdout",
          "text": [
            "Enter the height in cm: ?120\n",
            "Enter the age: ?3\n",
            "want photo graph yes or no: yes\n",
            "total fare is 8\n"
          ]
        }
      ]
    },
    {
      "cell_type": "code",
      "source": [
        "#Python Pizza Delivery Program\n",
        "\n",
        "\n",
        "print(\"Welcome to Python Pizza Delivery\")\n",
        "\n",
        "size = input(\"Enter the Size of Pizza: small, medium, large: \")\n",
        "pepperoni = input(\"Want to add the pepperoni: yes or no \")\n",
        "cheese = input(\"want to add cheese: yes or no \")\n",
        "bill = 0\n",
        "\n",
        "if size == \"small\":\n",
        "  bill = 15\n",
        "  if pepperoni == \"yes\":\n",
        "    bill += 2\n",
        "    if cheese == \"yes\":\n",
        "      bill += 2\n",
        "elif size == \"medium\":\n",
        "   bill =20\n",
        "   if pepperoni == \"yes\":\n",
        "    bill += 2\n",
        "    if cheese == \"yes\":\n",
        "      bill += 2\n",
        "elif size == \"large\":\n",
        "  bill =25\n",
        "  if pepperoni == \"yes\":\n",
        "    bill += 2\n",
        "    if cheese == \"yes\":\n",
        "      bill += 2\n",
        "      print(f\"total bill is {bill}\")\n",
        "else:\n",
        "    print(\"inavlid size\")\n",
        "\n"
      ],
      "metadata": {
        "colab": {
          "base_uri": "https://localhost:8080/"
        },
        "id": "Zwy237lLLLgt",
        "outputId": "fdc5e787-f0ab-419e-da3d-064152d431aa"
      },
      "execution_count": 7,
      "outputs": [
        {
          "output_type": "stream",
          "name": "stdout",
          "text": [
            "Welcome to Python Pizza Delivery\n",
            "Enter the Size of Pizza: small, medium, large: large\n",
            "Want to add the pepperoni: yes or no yes\n",
            "want to add cheese: yes or no yes\n",
            "total bill is 29\n"
          ]
        }
      ]
    },
    {
      "cell_type": "markdown",
      "source": [
        "Day -3 Project: Treasure Island"
      ],
      "metadata": {
        "id": "bvAcvZnURaye"
      }
    },
    {
      "cell_type": "code",
      "source": [
        "print(\"Welcome to teasure Island\")\n",
        "print(\"Your Mission is to find treasure\")\n",
        "\n",
        "dir = input(\"You are the crossroad, Where do you wish to go: left or right?\")\n",
        "\n",
        "if dir == \"left\":\n",
        "  print(\"You have coe to lake, There is an island in the middle of the lake\")\n",
        "  mode = input(\"type wait to wait for the boat or type swim to swim across\")\n",
        "  if mode == \"wait\":\n",
        "    print(\"You arrived at the island unharmed\")\n",
        "    colour = input(\"There is a house with 3 doors. One red, one yellow and one blue. Which colour do you choose?\")\n",
        "    if colour == \"red\":\n",
        "      print(\"It's a room full of fire. Game Over.\")\n",
        "    elif colour == \"yellow\":\n",
        "      print(\"You found the treasure! You Win!\")\n",
        "    elif colour == \"blue\":\n",
        "      print(\"You enter a room of beasts. Game Over.\")\n",
        "  elif mode == \"swim\":\n",
        "    print(\"You have been attacked by the fishes\")\n",
        "  else:\n",
        "    print(\"Invalid Mode\")\n",
        "elif dir == \"right\":\n",
        "  print(\"you fell in the hole and died\")\n",
        "\n",
        "else:\n",
        "  print(\"Invalid Direction\")\n"
      ],
      "metadata": {
        "colab": {
          "base_uri": "https://localhost:8080/"
        },
        "id": "dhJGX2P5RZzR",
        "outputId": "3a184773-965f-4e8c-b2b0-0c41597d9f3a"
      },
      "execution_count": 5,
      "outputs": [
        {
          "output_type": "stream",
          "name": "stdout",
          "text": [
            "Welcome to teasure Island\n",
            "Your Mission is to find treasure\n",
            "You are the crossroad, Where do you wish to go: left or right?right\n",
            "you fell in the hole and died\n"
          ]
        }
      ]
    }
  ]
}