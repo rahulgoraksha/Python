{
  "nbformat": 4,
  "nbformat_minor": 0,
  "metadata": {
    "colab": {
      "provenance": []
    },
    "kernelspec": {
      "name": "python3",
      "display_name": "Python 3"
    },
    "language_info": {
      "name": "python"
    }
  },
  "cells": [
    {
      "cell_type": "markdown",
      "source": [
        "For_Loop"
      ],
      "metadata": {
        "id": "lQ97H80hccW_"
      }
    },
    {
      "cell_type": "code",
      "source": [
        "edible = [\"almonds\",\"broccoli\",\"cheese\",\"wallnut\"]\n",
        "\n",
        "vowel = \"aeiou\"\n",
        "\n",
        "for food in edible:\n",
        "  v = 0\n",
        "  print(food ,\"----->\",edible)\n",
        "  for char in food:\n",
        "    print(char)\n",
        "    if char in vowel:\n",
        "      v = v+1\n",
        "  print(\"count of vowels: \",v)"
      ],
      "metadata": {
        "colab": {
          "base_uri": "https://localhost:8080/"
        },
        "id": "9LzkUV6j93OY",
        "outputId": "50c5bb17-4a79-4719-f5f1-64df37c703d9"
      },
      "execution_count": 29,
      "outputs": [
        {
          "output_type": "stream",
          "name": "stdout",
          "text": [
            "almonds -----> ['almonds', 'broccoli', 'cheese', 'wallnut']\n",
            "a\n",
            "l\n",
            "m\n",
            "o\n",
            "n\n",
            "d\n",
            "s\n",
            "count of vowels:  2\n",
            "broccoli -----> ['almonds', 'broccoli', 'cheese', 'wallnut']\n",
            "b\n",
            "r\n",
            "o\n",
            "c\n",
            "c\n",
            "o\n",
            "l\n",
            "i\n",
            "count of vowels:  3\n",
            "cheese -----> ['almonds', 'broccoli', 'cheese', 'wallnut']\n",
            "c\n",
            "h\n",
            "e\n",
            "e\n",
            "s\n",
            "e\n",
            "count of vowels:  3\n",
            "wallnut -----> ['almonds', 'broccoli', 'cheese', 'wallnut']\n",
            "w\n",
            "a\n",
            "l\n",
            "l\n",
            "n\n",
            "u\n",
            "t\n",
            "count of vowels:  2\n"
          ]
        }
      ]
    },
    {
      "cell_type": "code",
      "source": [
        "n = int(input(\"Enter the Number: \\n\"))\n",
        "\n",
        "for row in range(n):\n",
        "  for col in range(n):\n",
        "    print(\"*\",end = \" \")\n",
        "  print()"
      ],
      "metadata": {
        "colab": {
          "base_uri": "https://localhost:8080/"
        },
        "id": "8eJllahx93RV",
        "outputId": "371a4129-9b9c-405c-80ad-231f4a1f6364"
      },
      "execution_count": 18,
      "outputs": [
        {
          "output_type": "stream",
          "name": "stdout",
          "text": [
            "Enter the Number: \n",
            "5\n",
            "* * * * * \n",
            "* * * * * \n",
            "* * * * * \n",
            "* * * * * \n",
            "* * * * * \n"
          ]
        }
      ]
    },
    {
      "cell_type": "code",
      "source": [
        "n = int(input(\"Enter the Number: \\n\"))\n",
        "\n",
        "for row in range(n):\n",
        "  for col in range(row+1):\n",
        "    print(\"*\",end = \" \")\n",
        "  print()"
      ],
      "metadata": {
        "colab": {
          "base_uri": "https://localhost:8080/"
        },
        "id": "7gUg9hJSFUxS",
        "outputId": "f950698b-25d9-4124-b746-e9aa14888d43"
      },
      "execution_count": 19,
      "outputs": [
        {
          "output_type": "stream",
          "name": "stdout",
          "text": [
            "Enter the Number: \n",
            "3\n",
            "* \n",
            "* * \n",
            "* * * \n"
          ]
        }
      ]
    },
    {
      "cell_type": "code",
      "source": [
        "n = int(input(\"Enter the number:  \"))\n",
        "\n",
        "for row in range(n,0,-1):\n",
        "  for col in range(row):\n",
        "    print(\"*\",end = \" \")\n",
        "\n",
        "  print()"
      ],
      "metadata": {
        "colab": {
          "base_uri": "https://localhost:8080/"
        },
        "id": "oSi8kCoUIClm",
        "outputId": "9541934c-575c-452e-82e9-3df17cf0f8b5"
      },
      "execution_count": 27,
      "outputs": [
        {
          "output_type": "stream",
          "name": "stdout",
          "text": [
            "Enter the number:  6\n",
            "* * * * * * \n",
            "* * * * * \n",
            "* * * * \n",
            "* * * \n",
            "* * \n",
            "* \n"
          ]
        }
      ]
    },
    {
      "cell_type": "code",
      "source": [
        "n = int(input(\"Enter the number: \"))\n",
        "\n",
        "for row in range(1, n+1):\n",
        "  for spaces in range(n -row):\n",
        "    print(\" \",end =\" \")\n",
        "\n",
        "\n",
        "  for star in range(2*row-1):\n",
        "    print(\"*\",end = \" \")\n",
        "\n",
        "  print()\n",
        "\n"
      ],
      "metadata": {
        "colab": {
          "base_uri": "https://localhost:8080/"
        },
        "id": "VofPb8pKKLqx",
        "outputId": "aefe3a6c-b654-48a5-eb88-dcc9c6569c04"
      },
      "execution_count": 36,
      "outputs": [
        {
          "output_type": "stream",
          "name": "stdout",
          "text": [
            "Enter the number: 4\n",
            "      * \n",
            "    * * * \n",
            "  * * * * * \n",
            "* * * * * * * \n"
          ]
        }
      ]
    },
    {
      "cell_type": "code",
      "source": [
        "n = int(input(\"Enter the number: \"))\n",
        "\n",
        "for row in range(1,n+1):\n",
        "  for num in range(1,row+1):\n",
        "    print(num,end = \" \")\n",
        "  print()\n"
      ],
      "metadata": {
        "colab": {
          "base_uri": "https://localhost:8080/"
        },
        "id": "ERZ1bhGoPESq",
        "outputId": "de85f345-c7b5-4ef3-bc69-0fa96eb788c3"
      },
      "execution_count": 37,
      "outputs": [
        {
          "output_type": "stream",
          "name": "stdout",
          "text": [
            "Enter the number: 4\n",
            "1 \n",
            "1 2 \n",
            "1 2 3 \n",
            "1 2 3 4 \n"
          ]
        }
      ]
    },
    {
      "cell_type": "code",
      "source": [
        "num = int(input(\"Enter the table of number to be displayed:\"))\n",
        "\n",
        "for i in range(1,11):\n",
        "  print(num,\"*\",i,\"=\",num*i)"
      ],
      "metadata": {
        "colab": {
          "base_uri": "https://localhost:8080/"
        },
        "id": "FOlAgjVEA2Ot",
        "outputId": "09bf4d26-4028-4c02-a799-4bca23008d39"
      },
      "execution_count": 14,
      "outputs": [
        {
          "output_type": "stream",
          "name": "stdout",
          "text": [
            "Enter the table of number to be displayed:2\n",
            "2 * 1 = 2\n",
            "2 * 2 = 4\n",
            "2 * 3 = 6\n",
            "2 * 4 = 8\n",
            "2 * 5 = 10\n",
            "2 * 6 = 12\n",
            "2 * 7 = 14\n",
            "2 * 8 = 16\n",
            "2 * 9 = 18\n",
            "2 * 10 = 20\n"
          ]
        }
      ]
    },
    {
      "cell_type": "code",
      "source": [
        "# num = int(input(\"Enter the number: \"))\n",
        "\n",
        "def avg_num(num):\n",
        "  count = 0\n",
        "  sum = 0\n",
        "  count = count + 1\n",
        "  sum = sum + i\n",
        "  avg = sum/count\n",
        "  return avg_num\n",
        "\n",
        "avg_num()\n",
        "\n"
      ],
      "metadata": {
        "colab": {
          "base_uri": "https://localhost:8080/",
          "height": 103
        },
        "id": "eF07yjIiD44Z",
        "outputId": "c54644f4-0af4-4044-f03a-949fb8705331"
      },
      "execution_count": 17,
      "outputs": [
        {
          "output_type": "execute_result",
          "data": {
            "text/plain": [
              "<function __main__.avg_num(num)>"
            ],
            "text/html": [
              "<div style=\"max-width:800px; border: 1px solid var(--colab-border-color);\"><style>\n",
              "      pre.function-repr-contents {\n",
              "        overflow-x: auto;\n",
              "        padding: 8px 12px;\n",
              "        max-height: 500px;\n",
              "      }\n",
              "\n",
              "      pre.function-repr-contents.function-repr-contents-collapsed {\n",
              "        cursor: pointer;\n",
              "        max-height: 100px;\n",
              "      }\n",
              "    </style>\n",
              "    <pre style=\"white-space: initial; background:\n",
              "         var(--colab-secondary-surface-color); padding: 8px 12px;\n",
              "         border-bottom: 1px solid var(--colab-border-color);\"><b>avg_num</b><br/>def avg_num(num)</pre><pre class=\"function-repr-contents function-repr-contents-collapsed\" style=\"\"><a class=\"filepath\" style=\"display:none\" href=\"#\">/content/&lt;ipython-input-17-6a19ba3342f2&gt;</a>&lt;no docstring&gt;</pre></div>"
            ]
          },
          "metadata": {},
          "execution_count": 17
        }
      ]
    }
  ]
}