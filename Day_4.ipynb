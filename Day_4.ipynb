{
  "nbformat": 4,
  "nbformat_minor": 0,
  "metadata": {
    "colab": {
      "provenance": []
    },
    "kernelspec": {
      "name": "python3",
      "display_name": "Python 3"
    },
    "language_info": {
      "name": "python"
    }
  },
  "cells": [
    {
      "cell_type": "markdown",
      "source": [
        "Day -4 Randomisation and Python List"
      ],
      "metadata": {
        "id": "eveOAH0EFGGF"
      }
    },
    {
      "cell_type": "code",
      "execution_count": 9,
      "metadata": {
        "colab": {
          "base_uri": "https://localhost:8080/"
        },
        "id": "f7g3qc6YEsCu",
        "outputId": "bba56cf7-15f0-414a-f0e5-93db751e5263"
      },
      "outputs": [
        {
          "output_type": "stream",
          "name": "stdout",
          "text": [
            "1\n",
            "0.966231161323826\n",
            "6.756110612914716\n"
          ]
        }
      ],
      "source": [
        "import random\n",
        "\n",
        "num = random.randint(a= 1,b =10)\n",
        "print(num)\n",
        "\n",
        "num0 = random.random()\n",
        "print(num0)\n",
        "\n",
        "num1 = random.uniform(1,10)\n",
        "print(num1)"
      ]
    },
    {
      "cell_type": "code",
      "source": [
        "#Create a Head or Tails\n",
        "\n",
        "import random\n",
        "\n",
        "num = random.randint(0,1)\n",
        "\n",
        "if num == 0:\n",
        "    print(\"Heads\")\n",
        "elif num == 1:\n",
        "  print(\"Tails\")\n",
        "\n",
        "else:\n",
        "  print(\"one more chance\")\n",
        "\n"
      ],
      "metadata": {
        "colab": {
          "base_uri": "https://localhost:8080/"
        },
        "id": "jdzHi4quFTeD",
        "outputId": "bf41dff3-4be0-444d-ba92-9c0c56a03159"
      },
      "execution_count": 20,
      "outputs": [
        {
          "output_type": "stream",
          "name": "stdout",
          "text": [
            "Heads\n"
          ]
        }
      ]
    },
    {
      "cell_type": "code",
      "source": [
        "#List\n",
        "\n",
        "fruits = [\"item1\",\"item2\"]\n",
        "\n",
        "print(fruits[0])\n",
        "\n",
        "fruits[0] = \"itemn\"\n",
        "print(fruits)\n",
        "\n",
        "fruits.append([\"item3\",\"item4\"])\n",
        "print(fruits)\n",
        "\n",
        "fruits.extend([\"item4,item5\"])\n",
        "print(fruits)"
      ],
      "metadata": {
        "colab": {
          "base_uri": "https://localhost:8080/"
        },
        "id": "wHDmqdPbZmZi",
        "outputId": "e2aa305f-aeae-4872-91a3-42bf6f37d6a6"
      },
      "execution_count": 33,
      "outputs": [
        {
          "output_type": "stream",
          "name": "stdout",
          "text": [
            "item1\n",
            "['itemn', 'item2']\n",
            "['itemn', 'item2', ['item3', 'item4']]\n",
            "['itemn', 'item2', ['item3', 'item4'], 'item4,item5']\n"
          ]
        }
      ]
    },
    {
      "cell_type": "code",
      "source": [
        "#Who will pay the bill\n",
        "import random\n",
        "\n",
        "friends = random.choice([\"Alice\",\"Bob\",\"Charlie\",\"David\",\"Emanuel\"])\n",
        "\n",
        "print(friends)\n"
      ],
      "metadata": {
        "colab": {
          "base_uri": "https://localhost:8080/"
        },
        "id": "5EV2b74ZbBeA",
        "outputId": "3acbacd8-81dc-42c8-8247-6aa8d0e2473a"
      },
      "execution_count": 40,
      "outputs": [
        {
          "output_type": "stream",
          "name": "stdout",
          "text": [
            "Alice\n"
          ]
        }
      ]
    },
    {
      "cell_type": "code",
      "source": [
        "#Who will pay the bill\n",
        "import random\n",
        "\n",
        "friends = [\"Alice\",\"Bob\",\"Charlie\",\"David\",\"Emanuel\"]\n",
        "\n",
        "random_index = random.randint(0,4)\n",
        "print(friends[random_index])"
      ],
      "metadata": {
        "colab": {
          "base_uri": "https://localhost:8080/"
        },
        "id": "73Xca9-7iXTH",
        "outputId": "9dee2ed1-8107-41da-d9c8-87e22b3ec794"
      },
      "execution_count": 44,
      "outputs": [
        {
          "output_type": "stream",
          "name": "stdout",
          "text": [
            "David\n"
          ]
        }
      ]
    },
    {
      "cell_type": "code",
      "source": [
        "#number of friends\n",
        "\n",
        "print(len(friends)) #5 people present in list\n",
        "\n",
        "num_friends = (friends[4]) #as per list index we start from 0\n",
        "\n"
      ],
      "metadata": {
        "colab": {
          "base_uri": "https://localhost:8080/"
        },
        "id": "nWGiBsL6jEH0",
        "outputId": "800cf4ec-22c6-4e5c-ca50-94347fa2bdc1"
      },
      "execution_count": 51,
      "outputs": [
        {
          "output_type": "stream",
          "name": "stdout",
          "text": [
            "5\n"
          ]
        }
      ]
    },
    {
      "cell_type": "code",
      "source": [
        "#Rock paper Scissor with Computer\n",
        "\n",
        "import random\n",
        "\n",
        "user_choice = int(input(\"What you want to choose, type 0 for rock ,type 1 for paper ,type 2 for scissor: \"))\n",
        "\n",
        "computer_choice = random.randint(0,2)\n",
        "print(f\"computer choice is {computer_choice}\")\n",
        "\n",
        "\n",
        "if user_choice >= 3 or user_choice < 0:\n",
        "  print(\"invalid input\")\n",
        "elif user_choice > computer_choice:\n",
        "  print(\"you win\")\n",
        "elif user_choice < computer_choice:\n",
        "  print(\"you loose\")\n",
        "elif user_choice == computer_choice:\n",
        "  print(\"draw\")\n",
        "else:\n",
        "  print(\"one more move\")\n",
        "\n"
      ],
      "metadata": {
        "colab": {
          "base_uri": "https://localhost:8080/"
        },
        "id": "6EU8ZMMhmKFq",
        "outputId": "0946bd6d-b449-4783-e5e9-86656fde3c45"
      },
      "execution_count": 86,
      "outputs": [
        {
          "output_type": "stream",
          "name": "stdout",
          "text": [
            "What you want to choose, type 0 for rock ,type 1 for paper ,type 2 for scissor: 0\n",
            "computer choice is 2\n",
            "you loose\n"
          ]
        }
      ]
    }
  ]
}