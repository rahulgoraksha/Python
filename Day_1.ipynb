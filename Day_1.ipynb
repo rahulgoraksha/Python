{
  "nbformat": 4,
  "nbformat_minor": 0,
  "metadata": {
    "colab": {
      "provenance": []
    },
    "kernelspec": {
      "name": "python3",
      "display_name": "Python 3"
    },
    "language_info": {
      "name": "python"
    }
  },
  "cells": [
    {
      "cell_type": "code",
      "source": [
        "#print statement"
      ],
      "metadata": {
        "id": "eDWjLqoGIWxh"
      },
      "execution_count": null,
      "outputs": []
    },
    {
      "cell_type": "code",
      "execution_count": null,
      "metadata": {
        "colab": {
          "base_uri": "https://localhost:8080/"
        },
        "id": "n-lqhXagHG0D",
        "outputId": "d4ae1cdf-e6a3-4661-b8bc-7cbb2165f8ad"
      },
      "outputs": [
        {
          "output_type": "stream",
          "name": "stdout",
          "text": [
            "hello world\n"
          ]
        }
      ],
      "source": [
        "print(\"hello world\")"
      ]
    },
    {
      "cell_type": "code",
      "source": [
        "#New line statement printing using \"\\n\""
      ],
      "metadata": {
        "id": "wy9qLr9CIZF9"
      },
      "execution_count": null,
      "outputs": []
    },
    {
      "cell_type": "code",
      "source": [
        "print(\"Hello\\n Hello\\nhello\")"
      ],
      "metadata": {
        "colab": {
          "base_uri": "https://localhost:8080/"
        },
        "id": "4vxiZv-QOy17",
        "outputId": "a8009776-b76c-46a5-e7d8-ea422a02f093"
      },
      "execution_count": null,
      "outputs": [
        {
          "output_type": "stream",
          "name": "stdout",
          "text": [
            "Hello\n",
            " Hello\n",
            "hello\n"
          ]
        }
      ]
    },
    {
      "cell_type": "code",
      "source": [
        "#combine string :concatenate string"
      ],
      "metadata": {
        "id": "Lw_Sc9NiO53U"
      },
      "execution_count": null,
      "outputs": []
    },
    {
      "cell_type": "code",
      "source": [
        "print(\"Hello\"+\" \"+\"Rahul\")"
      ],
      "metadata": {
        "colab": {
          "base_uri": "https://localhost:8080/"
        },
        "id": "TNyQ6-F6HbQL",
        "outputId": "a0da1f97-eac3-442d-a85b-76bdc62a3775"
      },
      "execution_count": null,
      "outputs": [
        {
          "output_type": "stream",
          "name": "stdout",
          "text": [
            "Hello Rahul\n"
          ]
        }
      ]
    },
    {
      "cell_type": "code",
      "source": [
        "#input function"
      ],
      "metadata": {
        "id": "5-U-64xePT0d"
      },
      "execution_count": null,
      "outputs": []
    },
    {
      "cell_type": "code",
      "source": [
        "print(input(\"Enter the Number: \"))"
      ],
      "metadata": {
        "colab": {
          "base_uri": "https://localhost:8080/"
        },
        "id": "ztF_-ZZtTpbj",
        "outputId": "97941380-93db-4f60-d31f-2c78004d2bb3"
      },
      "execution_count": null,
      "outputs": [
        {
          "output_type": "stream",
          "name": "stdout",
          "text": [
            "Enter the Number: 2\n",
            "2\n"
          ]
        }
      ]
    },
    {
      "cell_type": "code",
      "source": [
        "#Python Variable, len() used count char present in string"
      ],
      "metadata": {
        "id": "JqnlEjLppUtb"
      },
      "execution_count": null,
      "outputs": []
    },
    {
      "cell_type": "code",
      "source": [
        "username = input(\"What is your name: \")  #user input information\n",
        "length = len(username)  #calculate the char present in string\n",
        "print(length)  #print the count of string"
      ],
      "metadata": {
        "colab": {
          "base_uri": "https://localhost:8080/"
        },
        "id": "k6pl9GoNpYDk",
        "outputId": "aef0c542-56af-4e3c-ee47-bc10f239c831"
      },
      "execution_count": null,
      "outputs": [
        {
          "output_type": "stream",
          "name": "stdout",
          "text": [
            "What is your name: rahul\n",
            "5\n"
          ]
        }
      ]
    },
    {
      "cell_type": "code",
      "source": [
        "#Exercise :Day 1\n",
        "\n",
        "print(\"1. Mix 500g of Flour, 10g Yeast and 300ml Water in a bowl.\")\n",
        "print(\"2. Knead the dough for 10 minutes.\")\n",
        "print(\"3. Add 3g of Salt.\")\n",
        "print(\"4. Leave to rise for 2 hours.\")\n",
        "print(\"5. Bake at 200 degrees C for 30 minutes.\")"
      ],
      "metadata": {
        "colab": {
          "base_uri": "https://localhost:8080/"
        },
        "collapsed": true,
        "id": "KfkQ2Alurprx",
        "outputId": "ebc49095-4690-47fe-e9de-94059bbfb0ba"
      },
      "execution_count": null,
      "outputs": [
        {
          "output_type": "stream",
          "name": "stdout",
          "text": [
            "1. Mix 500g of Flour, 10g Yeast and 300ml Water in a bowl.\n",
            "2. Knead the dough for 10 minutes.\n",
            "3. Add 3g of Salt.\n",
            "4. Leave to rise for 2 hours.\n",
            "5. Bake at 200 degrees C for 30 minutes.\n"
          ]
        }
      ]
    },
    {
      "cell_type": "code",
      "source": [
        "# Fix the code below 👇\n",
        "\n",
        "print(\"Notes from Day 1\")\n",
        "print(\"The print statement is used to output strings\")\n",
        "print(\"Strings are strings of characters\")\n",
        "print(\"String Concatenation is done with the + sign\")\n",
        "print(\"New lines can be created with a \\ and the letter n\")"
      ],
      "metadata": {
        "colab": {
          "base_uri": "https://localhost:8080/"
        },
        "collapsed": true,
        "id": "KFwMsCx7pcDd",
        "outputId": "8380c6ea-b1bc-4a84-fa8d-230a47584eaa"
      },
      "execution_count": null,
      "outputs": [
        {
          "output_type": "stream",
          "name": "stdout",
          "text": [
            "Notes from Day 1\n",
            "The print statement is used to output strings\n",
            "Strings are strings of characters\n",
            "String Concatenation is done with the + sign\n",
            "New lines can be created with a \\ and the letter n\n"
          ]
        }
      ]
    },
    {
      "cell_type": "code",
      "source": [
        "glass1 = \"milk\"\n",
        "glass2 = \"juice\"\n",
        "\n",
        "glass1,glass2 = glass2,glass1\n",
        "print(glass1)\n",
        "print(glass2)"
      ],
      "metadata": {
        "colab": {
          "base_uri": "https://localhost:8080/"
        },
        "id": "tfAGAe2Bsevv",
        "outputId": "d04878d0-6e25-4c69-94c7-4f0312c43e58"
      },
      "execution_count": null,
      "outputs": [
        {
          "output_type": "stream",
          "name": "stdout",
          "text": [
            "juice\n",
            "milk\n"
          ]
        }
      ]
    },
    {
      "cell_type": "code",
      "source": [
        "#Mini Project\n",
        "\n",
        "print(\"Welcome to the Band Name Generator\")\n",
        "city = input(\"What's the name of the city you grew up in? \")\n",
        "pet = input(\"What's your pet's name? \")\n",
        "\n",
        "print(\"Your band name could be\",city,pet)"
      ],
      "metadata": {
        "colab": {
          "base_uri": "https://localhost:8080/"
        },
        "collapsed": true,
        "id": "pT1d3af8wDLZ",
        "outputId": "6b9d0ae1-89da-40cf-9e08-c301f138d822"
      },
      "execution_count": null,
      "outputs": [
        {
          "output_type": "stream",
          "name": "stdout",
          "text": [
            "Welcome to the Band Name Generator\n",
            "What's the name of the city you grew up in? rahul\n",
            "What's your pet's name? band\n",
            "Your band name could be rahul band\n"
          ]
        }
      ]
    }
  ]
}