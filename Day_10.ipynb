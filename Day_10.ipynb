{
  "nbformat": 4,
  "nbformat_minor": 0,
  "metadata": {
    "colab": {
      "provenance": []
    },
    "kernelspec": {
      "name": "python3",
      "display_name": "Python 3"
    },
    "language_info": {
      "name": "python"
    }
  },
  "cells": [
    {
      "cell_type": "code",
      "execution_count": 10,
      "metadata": {
        "colab": {
          "base_uri": "https://localhost:8080/"
        },
        "collapsed": true,
        "id": "VbvUvYenyE7O",
        "outputId": "411b3c73-cc71-49e2-f229-ccf08646ef58"
      },
      "outputs": [
        {
          "output_type": "stream",
          "name": "stdout",
          "text": [
            "2\n",
            "4\n",
            "6\n",
            "8\n",
            "10\n",
            "12\n",
            "14\n",
            "16\n",
            "18\n",
            "20\n"
          ]
        }
      ],
      "source": [
        "#while loop\n",
        "\n",
        "#display even number between 1 to 20\n",
        "num = 2\n",
        "\n",
        "while num <= 20:\n",
        "\n",
        "  print(num)\n",
        "  num += 2"
      ]
    },
    {
      "cell_type": "code",
      "source": [
        "num = 21\n",
        "\n",
        "while num <= 101:\n",
        "  print(num)\n",
        "  num += 2"
      ],
      "metadata": {
        "collapsed": true,
        "colab": {
          "base_uri": "https://localhost:8080/"
        },
        "id": "JAIu3S3KD5jR",
        "outputId": "40a9be54-b6c6-4cd3-d23b-4a7b8150b3fa"
      },
      "execution_count": 22,
      "outputs": [
        {
          "output_type": "stream",
          "name": "stdout",
          "text": [
            "21\n",
            "23\n",
            "25\n",
            "27\n",
            "29\n",
            "31\n",
            "33\n",
            "35\n",
            "37\n",
            "39\n",
            "41\n",
            "43\n",
            "45\n",
            "47\n",
            "49\n",
            "51\n",
            "53\n",
            "55\n",
            "57\n",
            "59\n",
            "61\n",
            "63\n",
            "65\n",
            "67\n",
            "69\n",
            "71\n",
            "73\n",
            "75\n",
            "77\n",
            "79\n",
            "81\n",
            "83\n",
            "85\n",
            "87\n",
            "89\n",
            "91\n",
            "93\n",
            "95\n",
            "97\n",
            "99\n",
            "101\n"
          ]
        }
      ]
    },
    {
      "cell_type": "code",
      "source": [
        "#multiplication\n",
        "\n",
        "\n",
        "number = int(input(\"Enter the Number: \"))\n",
        "\n",
        "i = 1\n",
        "while i <= 10:\n",
        "  print(f\"{number} * {i} = {number * i}\")\n",
        "  i += 1"
      ],
      "metadata": {
        "colab": {
          "base_uri": "https://localhost:8080/"
        },
        "id": "QDZ2NS2HD9zc",
        "outputId": "2b4b11df-3f18-4917-d560-a0901789fd54"
      },
      "execution_count": 18,
      "outputs": [
        {
          "output_type": "stream",
          "name": "stdout",
          "text": [
            "Enter the Number: 2\n",
            "2 * 1 = 2\n",
            "2 * 2 = 4\n",
            "2 * 3 = 6\n",
            "2 * 4 = 8\n",
            "2 * 5 = 10\n",
            "2 * 6 = 12\n",
            "2 * 7 = 14\n",
            "2 * 8 = 16\n",
            "2 * 9 = 18\n",
            "2 * 10 = 20\n"
          ]
        }
      ]
    },
    {
      "cell_type": "code",
      "source": [
        "#reverese of number\n",
        "\n",
        "num = int(input(\"Enter a number: \"))\n",
        "reverse_num = 0\n",
        "\n",
        "while num > 0:\n",
        "    remainder = num % 10  # Extract the last digit\n",
        "    reverse_num = (reverse_num * 10) + remainder  # Build the reversed number\n",
        "    num //= 10  # Remove the last digit from the number\n",
        "\n",
        "print(f\"Reversed number is: {reverse_num}\")"
      ],
      "metadata": {
        "colab": {
          "base_uri": "https://localhost:8080/"
        },
        "id": "PKyzLYIoH1bm",
        "outputId": "3e3c7c5a-7fdb-4fa7-aa61-2c2b180cfa47"
      },
      "execution_count": 19,
      "outputs": [
        {
          "output_type": "stream",
          "name": "stdout",
          "text": [
            "Enter a number: 123\n",
            "Reversed number is: 321\n"
          ]
        }
      ]
    },
    {
      "cell_type": "code",
      "source": [
        "#calculate the sum and average of number\n",
        "\n",
        "num = int(input(\"Enter a number: \"))\n",
        "\n",
        "sum = 0\n",
        "avg = 0\n",
        "i = 1              #initialize\n",
        "while i <= num:   #condition\n",
        "  sum = sum + num\n",
        "  i = i + 1\n",
        "\n",
        "  avg = sum/num\n",
        "  print(f\"sum = {sum} and average = {avg}\")"
      ],
      "metadata": {
        "colab": {
          "base_uri": "https://localhost:8080/"
        },
        "id": "WIEt0cAbTIen",
        "outputId": "e660fd15-5cab-4ff3-db40-0a0923a136c9"
      },
      "execution_count": 20,
      "outputs": [
        {
          "output_type": "stream",
          "name": "stdout",
          "text": [
            "Enter a number: 2\n",
            "sum = 2 and average = 1.0\n",
            "sum = 4 and average = 2.0\n"
          ]
        }
      ]
    }
  ]
}