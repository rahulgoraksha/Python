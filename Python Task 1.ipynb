{
  "nbformat": 4,
  "nbformat_minor": 0,
  "metadata": {
    "colab": {
      "provenance": []
    },
    "kernelspec": {
      "name": "python3",
      "display_name": "Python 3"
    },
    "language_info": {
      "name": "python"
    }
  },
  "cells": [
    {
      "cell_type": "code",
      "source": [
        "from collections.abc import Sequence\n",
        "#Practise\n",
        "\n",
        "num = int(input(\"Enter the First Number :\"))\n",
        "\n",
        "Square = num **2\n",
        "print(\"Square of Number :\",Square)\n",
        "\n",
        "cube = num **3\n",
        "print(\"Cube of Number :\",cube)\n"
      ],
      "metadata": {
        "colab": {
          "base_uri": "https://localhost:8080/"
        },
        "id": "Hn85gJCV82x1",
        "outputId": "d4c2dd5b-a2c6-47b6-babb-3b6eecfab892"
      },
      "execution_count": 12,
      "outputs": [
        {
          "output_type": "stream",
          "name": "stdout",
          "text": [
            "Enter the First Number :2\n",
            "Square of Number : 4\n",
            "Cube of Number : 8\n"
          ]
        }
      ]
    },
    {
      "cell_type": "code",
      "execution_count": 5,
      "metadata": {
        "colab": {
          "base_uri": "https://localhost:8080/"
        },
        "id": "SFUqlXi13hL1",
        "outputId": "55290394-37b1-4b01-ade3-599fc9e30a7f"
      },
      "outputs": [
        {
          "output_type": "stream",
          "name": "stdout",
          "text": [
            "Welcome to Apptech Class Information\n",
            "Enter the Name of Candidate :Rahul Goraksha\n",
            "Enter the Name of Course :Machine Learning\n",
            "Enter the Time of Time : 5 - 6\n",
            "My Name is : Rahul Goraksha , I have registered for Machine Learning ,and My Batch Timing is :  5 - 6\n"
          ]
        }
      ],
      "source": [
        "#Assignment 01\n",
        "\n",
        "print(\"Welcome to Apptech Class Information\")\n",
        "\n",
        "name = input(\"Enter the Name of Candidate :\")\n",
        "course = input(\"Enter the Name of Course :\")\n",
        "time = input(\"Enter the Time of Time :\")\n",
        "\n",
        "print(\"My Name is :\",name,\", I have registered for\",course,\",and My Batch Timing is :\",time)"
      ]
    },
    {
      "cell_type": "code",
      "source": [
        "#Assignment\n",
        "\n",
        "import math\n",
        "\n",
        "print(\"Calculate the Volume and Surface Area of Sphere\")\n",
        "\n",
        "radius = int(input(\"Enter the Radius :\"))\n",
        "\n",
        "volume = (4/3) * math.pi * (radius ** 3)\n",
        "print(\"Volume of Sphere is :\",volume)\n",
        "\n",
        "surface = 4 * math.pi * (radius ** 2)\n",
        "print(\"Surface Area of Sphere is :\",surface)"
      ],
      "metadata": {
        "colab": {
          "base_uri": "https://localhost:8080/"
        },
        "id": "YTHbUgK7ca7t",
        "outputId": "d7780886-24c9-47b3-f9c6-b5bf9787f22b"
      },
      "execution_count": 22,
      "outputs": [
        {
          "output_type": "stream",
          "name": "stdout",
          "text": [
            "Calculate the Volume and Surface Area of Sphere\n",
            "Enter the Radius :2\n",
            "Volume of Sphere is : 33.510321638291124\n",
            "Surface Area of Sphere is : 50.26548245743669\n"
          ]
        }
      ]
    },
    {
      "cell_type": "code",
      "source": [
        "#Assignment 02\n",
        "\n",
        "print(\"Welcome to Calcualtor Application\")\n",
        "\n",
        "num_1 = int(input(\"Enter the First Number :\"))\n",
        "num_2 = int(input(\"Enter the Second Number :\"))\n",
        "\n",
        "print(\"Addition :\",num_1 + num_2)\n",
        "print(\"Substraction :\",num_1 - num_2)\n",
        "print(\"Division :\",num_1 / num_2)\n",
        "print(\"Multiplication :\",num_1 * num_2)"
      ],
      "metadata": {
        "colab": {
          "base_uri": "https://localhost:8080/"
        },
        "id": "MsoxLLgn6gG5",
        "outputId": "3611564e-efb8-4ae7-a1ad-c860c4703826"
      },
      "execution_count": 11,
      "outputs": [
        {
          "output_type": "stream",
          "name": "stdout",
          "text": [
            "Welcome to Calcualtor Application\n",
            "Enter the First Number :3\n",
            "Enter the Second Number :4\n",
            "Addition : 7\n",
            "Substraction : -1\n",
            "Division : 0.75\n",
            "Multiplication : 12\n"
          ]
        }
      ]
    },
    {
      "cell_type": "code",
      "source": [
        "#Assignment 03\n",
        "\n",
        "print(\"Semester -1 Result Portal\")\n",
        "\n",
        "roll_no = int(input(\"Enter the Roll Number :\"))\n",
        "name = input(\"Enter the Name of Student :\")\n",
        "\n",
        "hindi = input(\"Enter the Marks of Hindi :\")\n",
        "english = input(\"Enter the Marks of English :\")\n",
        "maths = input(\"Enter the Marks of Maths :\")\n",
        "science = input(\"Enter the Marks of Science :\")\n",
        "\n",
        "\n",
        "total = int(hindi) + int(english) + int(maths) + int(science)\n",
        "print(\"Total Marks :\",total)\n",
        "\n",
        "percentage = (total / 400) * 100\n",
        "print(\"Name of Student :\",name,\",Roll Number of candidate :\",roll_no,\",99Percentage :\",percentage,\"%\")"
      ],
      "metadata": {
        "colab": {
          "base_uri": "https://localhost:8080/"
        },
        "id": "M7degY-h9byA",
        "outputId": "740132a7-4492-4bac-a489-696539d6d156"
      },
      "execution_count": 19,
      "outputs": [
        {
          "output_type": "stream",
          "name": "stdout",
          "text": [
            "Semester -1 Result Portal\n",
            "Enter the Roll Number :22070148009\n",
            "Enter the Name of Student :Rahul Goraksha\n",
            "Enter the Marks of Hindi :96\n",
            "Enter the Marks of English :95\n",
            "Enter the Marks of Maths :92\n",
            "Enter the Marks of Science :96\n",
            "Total Marks : 379\n",
            "Name of Student : Rahul Goraksha ,Roll Number of candidate : 22070148009 ,99Percentage : 94.75 %\n"
          ]
        }
      ]
    },
    {
      "cell_type": "code",
      "source": [
        "#Assignment 04\n",
        "\n",
        "print(\"Employee Salary\")\n",
        "\n",
        "salary = int(input(\"Enter the Salary :\"))\n",
        "name = input(\"Enter the Name :\")\n",
        "\n",
        "HRA = 10/100 * salary\n",
        "print(\"HRA :\",HRA)\n",
        "\n",
        "PF = 3/100 * salary\n",
        "print(\"DA :\",PF)\n",
        "\n",
        "Commission = 7/100 * salary\n",
        "print(\"commission\",Commission)\n",
        "\n",
        "Net_Salary = salary + HRA + Commission - PF\n",
        "print(\"Name :\",name,\",Net Salary :\",Net_Salary)"
      ],
      "metadata": {
        "colab": {
          "base_uri": "https://localhost:8080/"
        },
        "id": "FUiI6xL5z_J_",
        "outputId": "9709c7eb-4bfd-43a6-a1a4-994666314cb0"
      },
      "execution_count": 4,
      "outputs": [
        {
          "output_type": "stream",
          "name": "stdout",
          "text": [
            "Employee Salary\n",
            "Enter the Salary :251930\n",
            "Enter the Name :Rahul Goraksha\n",
            "HRA : 25193.0\n",
            "DA : 7557.9\n",
            "commission 17635.100000000002\n",
            "Name : Rahul Goraksha ,Net Salary : 287200.19999999995\n"
          ]
        }
      ]
    },
    {
      "cell_type": "code",
      "source": [
        "#Assignment 05\n",
        "\n",
        "print(\"Calculate the BMI Index\")\n",
        "\n",
        "weight = int(input(\"Enter your weight in kg: \"))\n",
        "height = int(input(\"Enter your height in cm: \"))\n",
        "\n",
        "bmi = (weight / (height / 100) ** 2)\n",
        "print(\"Your BMI Index is :\",bmi)"
      ],
      "metadata": {
        "colab": {
          "base_uri": "https://localhost:8080/"
        },
        "id": "tXonZ6FwDwga",
        "outputId": "d276b270-fe80-47f6-964f-64d22c558325"
      },
      "execution_count": 1,
      "outputs": [
        {
          "output_type": "stream",
          "name": "stdout",
          "text": [
            "Calculate the BMI Index\n",
            "Enter your weight in kg: 65\n",
            "Enter your height in cm: 180\n",
            "Your BMI Index is : 20.061728395061728\n"
          ]
        }
      ]
    },
    {
      "cell_type": "code",
      "source": [
        "#Assignment 06\n",
        "\n",
        "print(\"Converter\")\n",
        "\n",
        "sec = int(input(\"Enter the number of seconds: \"))\n",
        "\n",
        "hours = sec // 3600\n",
        "print(\"Hours :\",hours)\n",
        "\n",
        "minutes = (sec % 3600) // 60\n",
        "print(\"Minutes :\",minutes)\n",
        "\n",
        "seconds = (sec % 3600) % 60\n",
        "print(\"Seconds :\",seconds)"
      ],
      "metadata": {
        "colab": {
          "base_uri": "https://localhost:8080/"
        },
        "id": "Cc8T933510Ei",
        "outputId": "ca4df1ef-c6e8-4bd0-a6bc-c412ffa3688f"
      },
      "execution_count": 5,
      "outputs": [
        {
          "output_type": "stream",
          "name": "stdout",
          "text": [
            "Converter\n",
            "Enter the number of seconds: 10000\n",
            "Hours : 2\n",
            "Minutes : 46\n",
            "Seconds : 40\n"
          ]
        }
      ]
    },
    {
      "cell_type": "code",
      "source": [
        "from os import nice\n",
        "#Assignment 07\n",
        "\n",
        "print(\"Swap Machine\")\n",
        "\n",
        "num_1 =int(input(\"Enter the First Number :\"))\n",
        "num_2 = int(input(\"Enter the Second Number :\"))\n",
        "\n",
        "num_1 , num_2 = num_2, num_1\n",
        "\n",
        "print(\"First Number :\",num_1, \",Second Number :\",num_2)"
      ],
      "metadata": {
        "colab": {
          "base_uri": "https://localhost:8080/"
        },
        "id": "9Kicv00T3qmg",
        "outputId": "1532df38-fa32-409a-b6ee-e80a4bf77c31"
      },
      "execution_count": 10,
      "outputs": [
        {
          "output_type": "stream",
          "name": "stdout",
          "text": [
            "Swap Machine\n",
            "Enter the First Number :2\n",
            "Enter the Second Number :1\n",
            "First Number : 1 ,Second Number : 2\n"
          ]
        }
      ]
    }
  ]
}