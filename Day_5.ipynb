{
  "nbformat": 4,
  "nbformat_minor": 0,
  "metadata": {
    "colab": {
      "provenance": []
    },
    "kernelspec": {
      "name": "python3",
      "display_name": "Python 3"
    },
    "language_info": {
      "name": "python"
    }
  },
  "cells": [
    {
      "cell_type": "markdown",
      "source": [
        "Day - 5: For loop, Range, Code Blocks"
      ],
      "metadata": {
        "id": "6e_Zou3c7f2K"
      }
    },
    {
      "cell_type": "code",
      "execution_count": null,
      "metadata": {
        "colab": {
          "base_uri": "https://localhost:8080/"
        },
        "id": "MXklbgzl7cIW",
        "outputId": "9fe214a5-1468-4986-a55a-36ac84691485"
      },
      "outputs": [
        {
          "output_type": "stream",
          "name": "stdout",
          "text": [
            "mango\n",
            "mangopie\n",
            "apple\n",
            "applepie\n",
            "cherry\n",
            "cherrypie\n"
          ]
        }
      ],
      "source": [
        "fruits = [\"mango\", \"apple\",\"cherry\"]\n",
        "\n",
        "for fruit in fruits:\n",
        "    print(fruit)\n",
        "    print(fruit + \"pie\")\n"
      ]
    },
    {
      "cell_type": "code",
      "source": [
        "#sum function\n",
        "student_marks = [35,120,36,25,220]\n",
        "\n",
        "total_marks = sum(student_marks)\n",
        "print(total_marks)"
      ],
      "metadata": {
        "colab": {
          "base_uri": "https://localhost:8080/"
        },
        "id": "aZO0AeUn8rL_",
        "outputId": "acffdeea-a146-4069-c057-f5fd49f4f71d"
      },
      "execution_count": null,
      "outputs": [
        {
          "output_type": "stream",
          "name": "stdout",
          "text": [
            "436\n"
          ]
        }
      ]
    },
    {
      "cell_type": "code",
      "source": [
        "#using for loop for calculating the sum\n",
        "\n",
        "sum = 0\n",
        "for score in student_marks:\n",
        "    sum += score\n",
        "print(sum)"
      ],
      "metadata": {
        "colab": {
          "base_uri": "https://localhost:8080/"
        },
        "id": "hzklUbAE9eyV",
        "outputId": "11dee98d-a31a-4f9d-d14e-8c5d990ce5ca"
      },
      "execution_count": null,
      "outputs": [
        {
          "output_type": "stream",
          "name": "stdout",
          "text": [
            "436\n"
          ]
        }
      ]
    },
    {
      "cell_type": "code",
      "source": [
        "#using for loop for finding max number\n",
        "student_marks = [35,120,36,25,220]\n",
        "max = 0\n",
        "for score in student_marks:\n",
        "  if score > max:\n",
        "    max = score\n",
        "print(max)\n"
      ],
      "metadata": {
        "colab": {
          "base_uri": "https://localhost:8080/"
        },
        "id": "t_XEltAd-cz-",
        "outputId": "c0a538cd-9bdb-4a65-9a8a-4ae07b646385"
      },
      "execution_count": null,
      "outputs": [
        {
          "output_type": "stream",
          "name": "stdout",
          "text": [
            "220\n"
          ]
        }
      ]
    },
    {
      "cell_type": "code",
      "source": [
        "#range function\n",
        "\n",
        "\n",
        "for number in range(1,11):\n",
        "  print(number)\n"
      ],
      "metadata": {
        "colab": {
          "base_uri": "https://localhost:8080/"
        },
        "id": "NjKY00cAm0aG",
        "outputId": "3a4a19e6-aceb-47f8-c8f9-611c00f9e77b"
      },
      "execution_count": null,
      "outputs": [
        {
          "output_type": "stream",
          "name": "stdout",
          "text": [
            "1\n",
            "2\n",
            "3\n",
            "4\n",
            "5\n",
            "6\n",
            "7\n",
            "8\n",
            "9\n",
            "10\n"
          ]
        }
      ]
    },
    {
      "cell_type": "code",
      "source": [
        "# Step in range hence mention 2\n",
        "for number in range(1,11,2):\n",
        "  print(number)"
      ],
      "metadata": {
        "colab": {
          "base_uri": "https://localhost:8080/"
        },
        "id": "fD0Sx0S1m6N6",
        "outputId": "2c6ab842-fd20-4771-f623-f4a20063eb97"
      },
      "execution_count": null,
      "outputs": [
        {
          "output_type": "stream",
          "name": "stdout",
          "text": [
            "1\n",
            "3\n",
            "5\n",
            "7\n",
            "9\n"
          ]
        }
      ]
    },
    {
      "cell_type": "code",
      "source": [
        "#Gauss Challenge: total of number from 1 to 100, inclusive of both 1 and 100\n",
        "\n",
        "sum = 0\n",
        "for number in range(1,101):\n",
        "  sum +=  number\n",
        "print(sum)"
      ],
      "metadata": {
        "colab": {
          "base_uri": "https://localhost:8080/"
        },
        "id": "fK3IDzUAoOm5",
        "outputId": "97d10497-962a-4a39-b6c6-9e97b21e3de9"
      },
      "execution_count": null,
      "outputs": [
        {
          "output_type": "stream",
          "name": "stdout",
          "text": [
            "5050\n"
          ]
        }
      ]
    },
    {
      "cell_type": "code",
      "source": [
        "#FizzBuzz Challenge\n",
        "\n",
        "\n",
        "num = 0\n",
        "\n",
        "for number in range(1,101):\n",
        "  if number % 3 ==0 and number %5 ==0:\n",
        "    print(\"fizzbuzz\")\n",
        "  elif number % 3 == 0:\n",
        "    print(\"fizz\")\n",
        "  elif number % 5 ==0:\n",
        "    print(\"Buzz\")\n",
        "  else:\n",
        "    print(number)\n",
        "    num += 1\n"
      ],
      "metadata": {
        "colab": {
          "base_uri": "https://localhost:8080/"
        },
        "id": "mpj_vY3NrhvM",
        "outputId": "d197995b-df2b-4821-eab0-915f4c6abd6c"
      },
      "execution_count": null,
      "outputs": [
        {
          "output_type": "stream",
          "name": "stdout",
          "text": [
            "1\n",
            "2\n",
            "fizz\n",
            "4\n",
            "Buzz\n",
            "fizz\n",
            "7\n",
            "8\n",
            "fizz\n",
            "Buzz\n",
            "11\n",
            "fizz\n",
            "13\n",
            "14\n",
            "fizzbuzz\n",
            "16\n",
            "17\n",
            "fizz\n",
            "19\n",
            "Buzz\n",
            "fizz\n",
            "22\n",
            "23\n",
            "fizz\n",
            "Buzz\n",
            "26\n",
            "fizz\n",
            "28\n",
            "29\n",
            "fizzbuzz\n",
            "31\n",
            "32\n",
            "fizz\n",
            "34\n",
            "Buzz\n",
            "fizz\n",
            "37\n",
            "38\n",
            "fizz\n",
            "Buzz\n",
            "41\n",
            "fizz\n",
            "43\n",
            "44\n",
            "fizzbuzz\n",
            "46\n",
            "47\n",
            "fizz\n",
            "49\n",
            "Buzz\n",
            "fizz\n",
            "52\n",
            "53\n",
            "fizz\n",
            "Buzz\n",
            "56\n",
            "fizz\n",
            "58\n",
            "59\n",
            "fizzbuzz\n",
            "61\n",
            "62\n",
            "fizz\n",
            "64\n",
            "Buzz\n",
            "fizz\n",
            "67\n",
            "68\n",
            "fizz\n",
            "Buzz\n",
            "71\n",
            "fizz\n",
            "73\n",
            "74\n",
            "fizzbuzz\n",
            "76\n",
            "77\n",
            "fizz\n",
            "79\n",
            "Buzz\n",
            "fizz\n",
            "82\n",
            "83\n",
            "fizz\n",
            "Buzz\n",
            "86\n",
            "fizz\n",
            "88\n",
            "89\n",
            "fizzbuzz\n",
            "91\n",
            "92\n",
            "fizz\n",
            "94\n",
            "Buzz\n",
            "fizz\n",
            "97\n",
            "98\n",
            "fizz\n",
            "Buzz\n"
          ]
        }
      ]
    },
    {
      "cell_type": "markdown",
      "source": [
        "Day - 5: Password Generator Mini Project"
      ],
      "metadata": {
        "id": "trc_9tOP5g2Z"
      }
    },
    {
      "cell_type": "code",
      "source": [
        "import random\n",
        "\n",
        "art = ['a','b','c','d''e','f','g','h','i','j','k','l','m','n','o','p','q','r','s','t','u','v','w','x','y','z',\"A\",\"B\",\"C\",\"D\",\"E\",\"F\",\"G\",\"H\",\"I\",\"J\",\"K\",\"L\",\"M\",\"N\",\"O\",\"P\",\"Q\",\"R\",\"S\",\"T\",\"U\",\"V\",\"W\",\"X\",\"Y\",\"Z\"]\n",
        "num = ['0','1','2','3','4','5','6','7','8','9']\n",
        "sym = ['!','@','#','$','%','^','&','*','(',')']\n",
        "\n",
        "article = int(input(\"How many letters would you like in your password? \"))\n",
        "no =  int(input(\"How many symbols would you like? \"))\n",
        "digit = int(input(\"How many numbers would you like? \"))\n",
        "\n",
        "password = []\n",
        "for letter in range(1,article+1):\n",
        "  password.append(random.choice(art))\n",
        "\n",
        "for number in range(1,no+1):\n",
        "  password.append(random.choice(num))\n",
        "\n",
        "for character in range(1,digit+1):\n",
        "  password.append(random.choice(sym))\n",
        "\n",
        "print(password)\n",
        "random.shuffle(password)\n",
        "print(password)\n",
        "\n",
        "passcode = ''.join(password)\n",
        "print(passcode)\n"
      ],
      "metadata": {
        "colab": {
          "base_uri": "https://localhost:8080/"
        },
        "id": "1XkL6J1-5fi1",
        "outputId": "233ccab0-d354-471e-f4ef-7a09578ecb44"
      },
      "execution_count": 18,
      "outputs": [
        {
          "output_type": "stream",
          "name": "stdout",
          "text": [
            "How many letters would you like in your password? 3\n",
            "How many symbols would you like? 3\n",
            "How many numbers would you like? 3\n",
            "['R', 'n', 'k', '7', '5', '8', '&', '(', '$']\n",
            "['k', '5', 'R', 'n', '8', '$', '&', '7', '(']\n",
            "k5Rn8$&7(\n"
          ]
        }
      ]
    }
  ]
}