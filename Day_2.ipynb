{
  "nbformat": 4,
  "nbformat_minor": 0,
  "metadata": {
    "colab": {
      "provenance": []
    },
    "kernelspec": {
      "name": "python3",
      "display_name": "Python 3"
    },
    "language_info": {
      "name": "python"
    }
  },
  "cells": [
    {
      "cell_type": "code",
      "execution_count": null,
      "metadata": {
        "id": "VRS1NZvaKkzJ"
      },
      "outputs": [],
      "source": [
        "#Data Types"
      ]
    },
    {
      "cell_type": "code",
      "source": [
        "print(\"Hello\"[0])"
      ],
      "metadata": {
        "colab": {
          "base_uri": "https://localhost:8080/"
        },
        "id": "5hE-myTtKrq9",
        "outputId": "8727b490-118f-41a2-bee4-1a740478fbd2"
      },
      "execution_count": null,
      "outputs": [
        {
          "output_type": "stream",
          "name": "stdout",
          "text": [
            "H\n"
          ]
        }
      ]
    },
    {
      "cell_type": "code",
      "source": [
        "print(\"Hello\"[:])"
      ],
      "metadata": {
        "colab": {
          "base_uri": "https://localhost:8080/"
        },
        "id": "PGcb7tSWKzsl",
        "outputId": "bacbbd22-a02d-4b1d-c987-ece8f11717e8"
      },
      "execution_count": null,
      "outputs": [
        {
          "output_type": "stream",
          "name": "stdout",
          "text": [
            "Hello\n"
          ]
        }
      ]
    },
    {
      "cell_type": "code",
      "source": [
        "print(\"Hello\"[:2])"
      ],
      "metadata": {
        "colab": {
          "base_uri": "https://localhost:8080/"
        },
        "id": "cPJab6qQK6Te",
        "outputId": "a7afa6ab-e77f-4eb9-9136-4af86c60620c"
      },
      "execution_count": null,
      "outputs": [
        {
          "output_type": "stream",
          "name": "stdout",
          "text": [
            "He\n"
          ]
        }
      ]
    },
    {
      "cell_type": "code",
      "source": [
        "print(\"Hello\"[-1]) #- means holds last character in string"
      ],
      "metadata": {
        "colab": {
          "base_uri": "https://localhost:8080/"
        },
        "id": "v5ok_VJ6S3_d",
        "outputId": "1ff7c7bf-06e3-4ff6-bfdc-2fadd630d16f"
      },
      "execution_count": null,
      "outputs": [
        {
          "output_type": "stream",
          "name": "stdout",
          "text": [
            "o\n"
          ]
        }
      ]
    },
    {
      "cell_type": "code",
      "source": [
        "#Data Type"
      ],
      "metadata": {
        "id": "fG_OyShCzu_7"
      },
      "execution_count": null,
      "outputs": []
    },
    {
      "cell_type": "code",
      "source": [
        "#String\n",
        "name = \"Rahul\"\n",
        "\n",
        "#Integer = whole number\n",
        "number = 123\n",
        "\n",
        "#float = floating point number\n",
        "decimal = 3.147\n",
        "\n",
        "#Boolean\n",
        "print(True)\n",
        "print(False)"
      ],
      "metadata": {
        "colab": {
          "base_uri": "https://localhost:8080/"
        },
        "id": "ucPX66xfzw85",
        "outputId": "b5e8e77e-8cad-4118-8ec0-8a09b0340ee7"
      },
      "execution_count": null,
      "outputs": [
        {
          "output_type": "stream",
          "name": "stdout",
          "text": [
            "True\n",
            "False\n"
          ]
        }
      ]
    },
    {
      "cell_type": "markdown",
      "source": [
        "Mathematical Opration in Python"
      ],
      "metadata": {
        "id": "yz9QERFnXTCi"
      }
    },
    {
      "cell_type": "code",
      "source": [
        "#Make BMI Calculator\n",
        "\n",
        "height = 1.65\n",
        "weight = 84\n",
        "\n",
        "# Write your code here.\n",
        "# Calculate the bmi using weight and height.\n",
        "bmi = float(weight)/float(height * height)\n",
        "\n",
        "print(bmi)\n"
      ],
      "metadata": {
        "id": "OpaCuEQA0Tbt",
        "colab": {
          "base_uri": "https://localhost:8080/"
        },
        "outputId": "26110b9c-953a-44bb-9fac-737fad3c9aa2"
      },
      "execution_count": null,
      "outputs": [
        {
          "output_type": "stream",
          "name": "stdout",
          "text": [
            "30.85399449035813\n"
          ]
        }
      ]
    },
    {
      "cell_type": "code",
      "source": [
        "#round function\n",
        "print(round(bmi,2))"
      ],
      "metadata": {
        "colab": {
          "base_uri": "https://localhost:8080/"
        },
        "id": "Hhri6pNPX0Du",
        "outputId": "9e64faca-f079-4858-cf92-975cb4337c33"
      },
      "execution_count": null,
      "outputs": [
        {
          "output_type": "stream",
          "name": "stdout",
          "text": [
            "30.85\n"
          ]
        }
      ]
    },
    {
      "cell_type": "markdown",
      "source": [
        "Tip Calculator Mini Project"
      ],
      "metadata": {
        "id": "IcJXkhPDZdHn"
      }
    },
    {
      "cell_type": "code",
      "source": [
        "print(\"Welcome to tip Calculator\")\n",
        "\n",
        "bill = int(input(\"What was the total? $ \"))\n",
        "\n",
        "tip = int(input(\"How much tip you would like to give? 10,12, or 15? \"))\n",
        "people =int(input(\"How many people to split the bill? \"))\n",
        "\n",
        "tip_cal = float(bill/people) * float(1+tip/100)\n",
        "round(tip_cal,3)\n",
        "print(\"Each Person should pay: $\",tip_cal)\n",
        "\n"
      ],
      "metadata": {
        "colab": {
          "base_uri": "https://localhost:8080/"
        },
        "id": "E3tDbOctZimE",
        "outputId": "d4f5836b-3fe4-4a6c-f0fc-28e6a0f329a9"
      },
      "execution_count": 12,
      "outputs": [
        {
          "output_type": "stream",
          "name": "stdout",
          "text": [
            "Welcome to tip Calculator\n",
            "What was the total? $ 120\n",
            "How much tip you would like to give? 10,12, or 15? 12\n",
            "How many people to split the bill? 2\n",
            "Each Person should pay: $ 67.2\n"
          ]
        }
      ]
    }
  ]
}