{
  "nbformat": 4,
  "nbformat_minor": 0,
  "metadata": {
    "colab": {
      "provenance": []
    },
    "kernelspec": {
      "name": "python3",
      "display_name": "Python 3"
    },
    "language_info": {
      "name": "python"
    }
  },
  "cells": [
    {
      "cell_type": "markdown",
      "source": [
        "Lambda Function"
      ],
      "metadata": {
        "id": "hVxJ_7UycSIl"
      }
    },
    {
      "cell_type": "code",
      "execution_count": 2,
      "metadata": {
        "colab": {
          "base_uri": "https://localhost:8080/"
        },
        "id": "f4vlTJZWcRWI",
        "outputId": "8c47265b-a535-4253-9854-cd1d401bb162"
      },
      "outputs": [
        {
          "output_type": "stream",
          "name": "stdout",
          "text": [
            "78.53981633974483\n"
          ]
        }
      ],
      "source": [
        "#Calculate the Area of Circle\n",
        "import math\n",
        "\n",
        "area_of_circle = lambda x: math.pi * x**2\n",
        "\n",
        "Area_of_Circle = area_of_circle(5)\n",
        "print(Area_of_Circle)"
      ]
    },
    {
      "cell_type": "code",
      "source": [
        "#Caluculate the Cube\n",
        "\n",
        "import math\n",
        "\n",
        "cube = lambda x: x**3\n",
        "\n",
        "Cube_of_Number = cube(5)\n",
        "\n",
        "print(\"Cube_of_Number: \", Cube_of_Number)"
      ],
      "metadata": {
        "colab": {
          "base_uri": "https://localhost:8080/"
        },
        "id": "kW9WI4Uyc5o0",
        "outputId": "a715ccc3-bae1-4a99-f8d3-6caa2293461d"
      },
      "execution_count": 5,
      "outputs": [
        {
          "output_type": "stream",
          "name": "stdout",
          "text": [
            "Cube_of_Number:  125\n"
          ]
        }
      ]
    },
    {
      "cell_type": "code",
      "source": [
        "#Calculate the product of two number\n",
        "\n",
        "product = lambda x,y: x*y\n",
        "\n",
        "Product_of_Number = product(5,6)\n",
        "\n",
        "print(\"Product_of_Number: \", Product_of_Number)"
      ],
      "metadata": {
        "colab": {
          "base_uri": "https://localhost:8080/"
        },
        "id": "4JHmcoIZdbzF",
        "outputId": "b488d7db-ab1c-4bba-e9a1-d69464b4db53"
      },
      "execution_count": 6,
      "outputs": [
        {
          "output_type": "stream",
          "name": "stdout",
          "text": [
            "Product_of_Number:  30\n"
          ]
        }
      ]
    },
    {
      "cell_type": "code",
      "source": [
        "#find out the number is odd or even\n",
        "\n",
        "number = lambda x: \"Even\" if x%2==0 else \"Odd\"\n",
        "\n",
        "Number = number(int(input(\"Enter the Number: \\n\")))\n",
        "\n",
        "print(\"Given Number is \",Number)"
      ],
      "metadata": {
        "colab": {
          "base_uri": "https://localhost:8080/"
        },
        "id": "QoIoIq-bdrPm",
        "outputId": "22f1473a-3ca5-4bd3-e0b6-089d593c3ce7"
      },
      "execution_count": 11,
      "outputs": [
        {
          "output_type": "stream",
          "name": "stdout",
          "text": [
            "Enter the Number: \n",
            "6\n",
            "Given Number is  Even\n"
          ]
        }
      ]
    },
    {
      "cell_type": "code",
      "source": [
        "#Find the Age given eligible for voting or not\n",
        "\n",
        "age = lambda x: \"Eligible\" if x>=18 else \"Not Eligible\"\n",
        "\n",
        "Criteria =  age(int(input(\"Enter the Age: \\n\")))\n",
        "\n",
        "print(\"Criteria Age for voting: \",Criteria)"
      ],
      "metadata": {
        "colab": {
          "base_uri": "https://localhost:8080/"
        },
        "id": "skOgHzKPeQZ0",
        "outputId": "d22dd069-ee8e-4ae2-8655-6ef9fc1670ff"
      },
      "execution_count": 17,
      "outputs": [
        {
          "output_type": "stream",
          "name": "stdout",
          "text": [
            "Enter the Age: \n",
            "19\n",
            "Criteria Age for voting:  Eligible\n"
          ]
        }
      ]
    },
    {
      "cell_type": "code",
      "source": [
        "#enter the 3 number to find out the biggest three number\n",
        "\n",
        "\n",
        "number = lambda x,y,z: max(x,y,z)\n",
        "\n",
        "biggest_number = number(int(input(\"Enter the 1st Number: \\n\")),int(input(\"Enter the 2nd Number: \\n\")),int(input(\"Enter the 3rd Number: \\n\")))\n",
        "\n",
        "print(\"Biggest Number: \",biggest_number)"
      ],
      "metadata": {
        "colab": {
          "base_uri": "https://localhost:8080/"
        },
        "id": "juWY_q6Ke0b6",
        "outputId": "a9928902-458a-4a3f-b62c-611ef876ecbe"
      },
      "execution_count": 18,
      "outputs": [
        {
          "output_type": "stream",
          "name": "stdout",
          "text": [
            "Enter the 1st Number: \n",
            "18\n",
            "Enter the 2nd Number: \n",
            "35\n",
            "Enter the 3rd Number: \n",
            "65\n",
            "Biggest Number:  65\n"
          ]
        }
      ]
    },
    {
      "cell_type": "code",
      "source": [
        "#map function\n",
        "\n",
        "ls = [1,2,3,4,5,6,7,8,9,10]\n",
        "\n",
        "number = list(map(lambda x: x**2,ls))\n",
        "\n",
        "print(number)"
      ],
      "metadata": {
        "colab": {
          "base_uri": "https://localhost:8080/"
        },
        "id": "d2LhpW0miCvI",
        "outputId": "5b5a4b45-f5af-4900-b2b8-4d62badc2b56"
      },
      "execution_count": 19,
      "outputs": [
        {
          "output_type": "stream",
          "name": "stdout",
          "text": [
            "[1, 4, 9, 16, 25, 36, 49, 64, 81, 100]\n"
          ]
        }
      ]
    },
    {
      "cell_type": "code",
      "source": [
        "#filter function: only returns the true value\n",
        "\n",
        "numbers = [1, 2, 3, 4, 5, 6]\n",
        "odd_numbers = list(filter(lambda x: x % 2 != 0, numbers))\n",
        "print(odd_numbers)"
      ],
      "metadata": {
        "colab": {
          "base_uri": "https://localhost:8080/"
        },
        "id": "jfw3jdukiViV",
        "outputId": "19e444e6-91b6-4617-c9e7-79bb706bf6b9"
      },
      "execution_count": 20,
      "outputs": [
        {
          "output_type": "stream",
          "name": "stdout",
          "text": [
            "[1, 3, 5]\n"
          ]
        }
      ]
    },
    {
      "cell_type": "code",
      "source": [
        "#reduce: returns the single value\n",
        "\n",
        "from functools import reduce\n",
        "\n",
        "numbers = [1,2,3,4,5,6]\n",
        "sum_of_numbers = reduce(lambda x,y: x+y,numbers)\n",
        "print(sum_of_numbers)"
      ],
      "metadata": {
        "colab": {
          "base_uri": "https://localhost:8080/"
        },
        "id": "lizcd3XrjGkU",
        "outputId": "f963e239-7da3-4706-a503-db4ada3a06d7"
      },
      "execution_count": 25,
      "outputs": [
        {
          "output_type": "stream",
          "name": "stdout",
          "text": [
            "21\n"
          ]
        }
      ]
    },
    {
      "cell_type": "code",
      "source": [
        "#Task\n",
        "\n",
        "\n",
        "#write a python program to triple all the number in a given list of integer use python map\n",
        "\n",
        "ls = [1,2,3,4,5,6,7,8,9,10]\n",
        "number = list(map(lambda x: x**3,ls))\n",
        "print(number)\n"
      ],
      "metadata": {
        "colab": {
          "base_uri": "https://localhost:8080/"
        },
        "id": "z1VbzAmCjX5X",
        "outputId": "697abdc6-9c8c-4719-ef4d-be794ceb8d31"
      },
      "execution_count": 27,
      "outputs": [
        {
          "output_type": "stream",
          "name": "stdout",
          "text": [
            "[1, 8, 27, 64, 125, 216, 343, 512, 729, 1000]\n"
          ]
        }
      ]
    },
    {
      "cell_type": "code",
      "source": [
        "#Write a python program to convert all the character into upper and lower case and eliminate duplicate letters from a given sequence. Use the map function\n",
        "word = \"Hello World\"\n",
        "\n",
        "upper = list(map(lambda x: x.upper(),word))\n",
        "print(\"Upper Case Character of the Word: \",upper)\n",
        "\n",
        "lower = list(map(lambda x: x.lower(),word))\n",
        "print(\"lower Case Character of the Word: \",lower)\n"
      ],
      "metadata": {
        "colab": {
          "base_uri": "https://localhost:8080/"
        },
        "id": "ljFEspM-l0wN",
        "outputId": "85d86491-22f9-4563-d2d5-6fbd0d6116b5"
      },
      "execution_count": 33,
      "outputs": [
        {
          "output_type": "stream",
          "name": "stdout",
          "text": [
            "Upper Case Character of the Word:  ['H', 'E', 'L', 'L', 'O', ' ', 'W', 'O', 'R', 'L', 'D']\n",
            "lower Case Character of the Word:  ['h', 'e', 'l', 'l', 'o', ' ', 'w', 'o', 'r', 'l', 'd']\n"
          ]
        }
      ]
    },
    {
      "cell_type": "code",
      "source": [
        "#Write a python program that uses the filter function to extract all uppercase letter from a a mixed case string\n",
        "\n",
        "word = \"WasBozGoz\"\n",
        "\n",
        "mix_case = list(filter(lambda x:x.isupper(),word ))\n",
        "\n",
        "print(mix_case)"
      ],
      "metadata": {
        "colab": {
          "base_uri": "https://localhost:8080/"
        },
        "id": "Gwd-oBFEmJlG",
        "outputId": "58e51d44-afb3-4e7f-bc43-e713ae822c5d"
      },
      "execution_count": 37,
      "outputs": [
        {
          "output_type": "stream",
          "name": "stdout",
          "text": [
            "['W', 'B', 'G']\n"
          ]
        }
      ]
    },
    {
      "cell_type": "code",
      "source": [
        "#Write a python program that create a list of names and uses the filter function to extract the names that start with a vowel(A,E,I,O,U)\n",
        "names = [\"Alice\", \"Bob\", \"Eve\", \"Oscar\", \"Uma\", \"Charlie\"]\n",
        "\n",
        "check = list(filter(lambda x:x[0].upper() in \"AEIOU\",names))\n",
        "print(check)\n"
      ],
      "metadata": {
        "colab": {
          "base_uri": "https://localhost:8080/"
        },
        "id": "AuA6dGVgnxIm",
        "outputId": "13611a6d-6a17-40e3-9133-7e5fb3915b54"
      },
      "execution_count": 42,
      "outputs": [
        {
          "output_type": "stream",
          "name": "stdout",
          "text": [
            "['Alice', 'Eve', 'Oscar', 'Uma']\n"
          ]
        }
      ]
    },
    {
      "cell_type": "code",
      "source": [
        "#Using reduce function find out biggest and largest value in list\n",
        "\n",
        "from functools import reduce\n",
        "number = [15,28,85,46,78,105,36]\n",
        "\n",
        "largest_number = reduce(lambda x,y: x if x>y else y, number)\n",
        "print(largest_number)"
      ],
      "metadata": {
        "colab": {
          "base_uri": "https://localhost:8080/"
        },
        "id": "PtCqFAvMobNO",
        "outputId": "08e3b387-1aba-45bd-82ef-9fe788639f6b"
      },
      "execution_count": 46,
      "outputs": [
        {
          "output_type": "stream",
          "name": "stdout",
          "text": [
            "105\n"
          ]
        }
      ]
    }
  ]
}